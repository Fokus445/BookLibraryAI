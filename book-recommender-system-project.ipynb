{
 "cells": [
  {
   "cell_type": "markdown",
   "metadata": {},
   "source": [
    "# Book Recommender System\n",
    "\n",
    "A recommendation system is one of the top applications of data science. Every consumer Internet company requires a recommendation system like Netflix, Youtube, a news feed, etc. What you want to show out of a huge range of items is a recommendation system.\n",
    "​\n",
    "## Project of Contents\n",
    "​\n",
    "- **1. Introduction to a Recommendation system**\n",
    "​\n",
    "- **2. Types of Recommendation system**\n",
    "​\n",
    "- **3. Book Recommendation System**\n",
    "   - Popularity Based Recommender System\n",
    "   - Content-Based Filtering\n",
    "   - Collaborative-based filtering\n",
    "   - Hybrid filtering\n",
    "​\n",
    "- **4. Hands-on Recommendation system**\n",
    "  - Dataset Description\n",
    "  - Preprocess data\n",
    "  - Perform EDA\n",
    "  - Clustering\n",
    "  - Predictions\n",
    "  \n",
    "  \n",
    "  ## Book Recommendation System \n",
    "  \n",
    "A book recommendation system is a type of recommendation system where we have to recommend similar books to the reader based on his interest. The books recommendation system is used by online websites which provide ebooks like google play books, open library, good Read’s, etc.\n",
    "​\n",
    "In this article, we will use the Collaborative based filtering method to build a book recommender system. You can download the dataset from [here](https://www.kaggle.com/datasets/arashnic/book-recommendation-dataset)\n",
    "​\n",
    "​\n",
    "**Practical Implementation of Recommendation System**\n",
    "​\n",
    "Let’s make our hands dirty while trying to implement a Book recommendation system using collaborative filtering.\n",
    "​\n",
    "**Dataset Description**  \n",
    "- we have 3 files in our dataset which is extracted from some books selling websites.\n",
    "​\n",
    "1. **Books** – first are about books which contain all the information related to books like an author, title, publication year, etc.\n",
    "​\n",
    "2. **Users** – The second file contains registered user’s information like user id, location.\n",
    "​\n",
    "3. **ratings** –  Ratings contain information like which user has given how much rating to which book.\n",
    "\n",
    "So based on all these three files we can build a powerful collaborative filtering model. let’s get started.\n"
   ]
  },
  {
   "cell_type": "code",
   "execution_count": 1,
   "metadata": {
    "execution": {
     "iopub.execute_input": "2023-09-20T20:06:00.071549Z",
     "iopub.status.busy": "2023-09-20T20:06:00.071132Z",
     "iopub.status.idle": "2023-09-20T20:06:00.077494Z",
     "shell.execute_reply": "2023-09-20T20:06:00.076295Z",
     "shell.execute_reply.started": "2023-09-20T20:06:00.07152Z"
    }
   },
   "outputs": [
    {
     "name": "stdout",
     "output_type": "stream",
     "text": [
      "Collecting seaborn\n",
      "  Downloading seaborn-0.12.2-py3-none-any.whl (293 kB)\n",
      "Collecting scikit-learn\n",
      "  Downloading scikit_learn-1.0.2-cp37-cp37m-win_amd64.whl (7.1 MB)\n",
      "Requirement already satisfied: typing_extensions in d:\\edwin\\anaconda\\envs\\tfgpu\\lib\\site-packages (from seaborn) (4.1.1)\n",
      "Requirement already satisfied: numpy!=1.24.0,>=1.17 in d:\\edwin\\anaconda\\envs\\tfgpu\\lib\\site-packages (from seaborn) (1.21.5)\n",
      "Collecting pandas>=0.25\n",
      "  Downloading pandas-1.1.5-cp37-cp37m-win_amd64.whl (8.7 MB)\n",
      "Requirement already satisfied: matplotlib!=3.6.1,>=3.1 in d:\\edwin\\anaconda\\envs\\tfgpu\\lib\\site-packages (from seaborn) (3.5.1)\n",
      "Collecting threadpoolctl>=2.0.0\n",
      "  Using cached threadpoolctl-3.1.0-py3-none-any.whl (14 kB)\n",
      "Requirement already satisfied: scipy>=1.1.0 in d:\\edwin\\anaconda\\envs\\tfgpu\\lib\\site-packages (from scikit-learn) (1.7.3)\n",
      "Collecting joblib>=0.11\n",
      "  Using cached joblib-1.3.2-py3-none-any.whl (302 kB)\n",
      "Requirement already satisfied: pyparsing>=2.2.1 in d:\\edwin\\anaconda\\envs\\tfgpu\\lib\\site-packages (from matplotlib!=3.6.1,>=3.1->seaborn) (3.0.4)\n",
      "Requirement already satisfied: packaging>=20.0 in d:\\edwin\\anaconda\\envs\\tfgpu\\lib\\site-packages (from matplotlib!=3.6.1,>=3.1->seaborn) (21.3)\n",
      "Requirement already satisfied: pillow>=6.2.0 in d:\\edwin\\anaconda\\envs\\tfgpu\\lib\\site-packages (from matplotlib!=3.6.1,>=3.1->seaborn) (8.0.0)\n",
      "Requirement already satisfied: fonttools>=4.22.0 in d:\\edwin\\anaconda\\envs\\tfgpu\\lib\\site-packages (from matplotlib!=3.6.1,>=3.1->seaborn) (4.25.0)\n",
      "Requirement already satisfied: python-dateutil>=2.7 in d:\\edwin\\anaconda\\envs\\tfgpu\\lib\\site-packages (from matplotlib!=3.6.1,>=3.1->seaborn) (2.8.2)\n",
      "Requirement already satisfied: cycler>=0.10 in d:\\edwin\\anaconda\\envs\\tfgpu\\lib\\site-packages (from matplotlib!=3.6.1,>=3.1->seaborn) (0.11.0)\n",
      "Requirement already satisfied: kiwisolver>=1.0.1 in d:\\edwin\\anaconda\\envs\\tfgpu\\lib\\site-packages (from matplotlib!=3.6.1,>=3.1->seaborn) (1.4.2)\n",
      "Collecting pytz>=2017.2\n",
      "  Downloading pytz-2023.3.post1-py2.py3-none-any.whl (502 kB)\n",
      "Requirement already satisfied: six>=1.5 in d:\\edwin\\anaconda\\envs\\tfgpu\\lib\\site-packages (from python-dateutil>=2.7->matplotlib!=3.6.1,>=3.1->seaborn) (1.16.0)\n",
      "Installing collected packages: pytz, threadpoolctl, pandas, joblib, seaborn, scikit-learn\n",
      "Successfully installed joblib-1.3.2 pandas-1.1.5 pytz-2023.3.post1 scikit-learn-1.0.2 seaborn-0.12.2 threadpoolctl-3.1.0\n"
     ]
    },
    {
     "name": "stderr",
     "output_type": "stream",
     "text": [
      "The system cannot find the path specified.\n"
     ]
    }
   ],
   "source": [
    "# Libarys \n",
    "!pip install seaborn scikit-learn\n",
    "import pandas as pd \n",
    "import numpy as np \n",
    "import matplotlib.pyplot as plt \n",
    "import seaborn as sns \n",
    "import warnings as w\n",
    "w.filterwarnings('ignore')\n",
    "from sklearn.metrics.pairwise import cosine_similarity"
   ]
  },
  {
   "cell_type": "code",
   "execution_count": 6,
   "metadata": {
    "execution": {
     "iopub.execute_input": "2023-09-20T20:06:00.080028Z",
     "iopub.status.busy": "2023-09-20T20:06:00.079604Z",
     "iopub.status.idle": "2023-09-20T20:06:02.780851Z",
     "shell.execute_reply": "2023-09-20T20:06:02.77967Z",
     "shell.execute_reply.started": "2023-09-20T20:06:00.079991Z"
    }
   },
   "outputs": [],
   "source": [
    "books = pd.read_csv('data/Books.csv')\n",
    "users = pd.read_csv('data/Users.csv')\n",
    "ratings = pd.read_csv('data/Ratings.csv')"
   ]
  },
  {
   "cell_type": "markdown",
   "metadata": {},
   "source": [
    "# Exploratory data analysis (EDA) "
   ]
  },
  {
   "cell_type": "code",
   "execution_count": 7,
   "metadata": {
    "execution": {
     "iopub.execute_input": "2023-09-20T20:06:02.785264Z",
     "iopub.status.busy": "2023-09-20T20:06:02.784475Z",
     "iopub.status.idle": "2023-09-20T20:06:02.904785Z",
     "shell.execute_reply": "2023-09-20T20:06:02.903696Z",
     "shell.execute_reply.started": "2023-09-20T20:06:02.785218Z"
    }
   },
   "outputs": [
    {
     "name": "stdout",
     "output_type": "stream",
     "text": [
      "shape of books  (271360, 8)\n",
      "\n",
      "<class 'pandas.core.frame.DataFrame'>\n",
      "RangeIndex: 271360 entries, 0 to 271359\n",
      "Data columns (total 8 columns):\n",
      " #   Column               Non-Null Count   Dtype \n",
      "---  ------               --------------   ----- \n",
      " 0   ISBN                 271360 non-null  object\n",
      " 1   Book-Title           271360 non-null  object\n",
      " 2   Book-Author          271359 non-null  object\n",
      " 3   Year-Of-Publication  271360 non-null  object\n",
      " 4   Publisher            271358 non-null  object\n",
      " 5   Image-URL-S          271360 non-null  object\n",
      " 6   Image-URL-M          271360 non-null  object\n",
      " 7   Image-URL-L          271357 non-null  object\n",
      "dtypes: object(8)\n",
      "memory usage: 16.6+ MB\n"
     ]
    }
   ],
   "source": [
    "# books \n",
    "print('shape of books ',books.shape)\n",
    "print()\n",
    "books.info()"
   ]
  },
  {
   "cell_type": "code",
   "execution_count": 4,
   "metadata": {
    "execution": {
     "iopub.execute_input": "2023-09-20T20:06:02.907027Z",
     "iopub.status.busy": "2023-09-20T20:06:02.90612Z",
     "iopub.status.idle": "2023-09-20T20:06:02.940345Z",
     "shell.execute_reply": "2023-09-20T20:06:02.939148Z",
     "shell.execute_reply.started": "2023-09-20T20:06:02.906989Z"
    }
   },
   "outputs": [
    {
     "name": "stdout",
     "output_type": "stream",
     "text": [
      "shape of users (278858, 3)\n",
      "\n",
      "<class 'pandas.core.frame.DataFrame'>\n",
      "RangeIndex: 278858 entries, 0 to 278857\n",
      "Data columns (total 3 columns):\n",
      " #   Column    Non-Null Count   Dtype  \n",
      "---  ------    --------------   -----  \n",
      " 0   User-ID   278858 non-null  int64  \n",
      " 1   Location  278858 non-null  object \n",
      " 2   Age       168096 non-null  float64\n",
      "dtypes: float64(1), int64(1), object(1)\n",
      "memory usage: 6.4+ MB\n"
     ]
    }
   ],
   "source": [
    "# user \n",
    "print('shape of users',users.shape)\n",
    "print()\n",
    "users.info()"
   ]
  },
  {
   "cell_type": "code",
   "execution_count": 5,
   "metadata": {
    "execution": {
     "iopub.execute_input": "2023-09-20T20:06:02.944034Z",
     "iopub.status.busy": "2023-09-20T20:06:02.943583Z",
     "iopub.status.idle": "2023-09-20T20:06:03.034324Z",
     "shell.execute_reply": "2023-09-20T20:06:03.032965Z",
     "shell.execute_reply.started": "2023-09-20T20:06:02.944002Z"
    }
   },
   "outputs": [
    {
     "name": "stdout",
     "output_type": "stream",
     "text": [
      "shape of rating (1149780, 3)\n",
      "\n",
      "<class 'pandas.core.frame.DataFrame'>\n",
      "RangeIndex: 1149780 entries, 0 to 1149779\n",
      "Data columns (total 3 columns):\n",
      " #   Column       Non-Null Count    Dtype \n",
      "---  ------       --------------    ----- \n",
      " 0   User-ID      1149780 non-null  int64 \n",
      " 1   ISBN         1149780 non-null  object\n",
      " 2   Book-Rating  1149780 non-null  int64 \n",
      "dtypes: int64(2), object(1)\n",
      "memory usage: 26.3+ MB\n"
     ]
    }
   ],
   "source": [
    "# ratings\n",
    "print('shape of rating',ratings.shape)\n",
    "print()\n",
    "ratings.info()"
   ]
  },
  {
   "cell_type": "markdown",
   "metadata": {},
   "source": [
    "The dataset is `reliable and can consider as a large dataset`. we have `271360 books data` and total registered `users` on the website are`approximately 278000` and they have given near about `11 lakh rating`. hence we can say that the dataset we have is nice and reliable."
   ]
  },
  {
   "cell_type": "code",
   "execution_count": 6,
   "metadata": {
    "execution": {
     "iopub.execute_input": "2023-09-20T20:06:03.03683Z",
     "iopub.status.busy": "2023-09-20T20:06:03.035968Z",
     "iopub.status.idle": "2023-09-20T20:06:03.424226Z",
     "shell.execute_reply": "2023-09-20T20:06:03.423091Z",
     "shell.execute_reply.started": "2023-09-20T20:06:03.036789Z"
    }
   },
   "outputs": [
    {
     "data": {
      "image/png": "[encoded data removed]",
      "text/plain": [
       "<Figure size 640x480 with 1 Axes>"
      ]
     },
     "metadata": {},
     "output_type": "display_data"
    }
   ],
   "source": [
    "ratings['Book-Rating'].value_counts().plot(kind='bar');"
   ]
  },
  {
   "cell_type": "markdown",
   "metadata": {},
   "source": [
    "It's common in recommendation systems to have implicit feedback data, where users do not explicitly provide ratings but their actions can be used as an indication of preference. In this case, a `rating of 0 might represent a missing or unknown rating`, which is often treated as \"implicit negative feedback.\" It means that the users who have not provided any rating for a book are not necessarily indicating that they dislike the book; they might simply not have expressed any opinion about it."
   ]
  },
  {
   "cell_type": "code",
   "execution_count": 7,
   "metadata": {
    "execution": {
     "iopub.execute_input": "2023-09-20T20:06:03.425928Z",
     "iopub.status.busy": "2023-09-20T20:06:03.425592Z",
     "iopub.status.idle": "2023-09-20T20:06:03.539689Z",
     "shell.execute_reply": "2023-09-20T20:06:03.538723Z",
     "shell.execute_reply.started": "2023-09-20T20:06:03.425901Z"
    }
   },
   "outputs": [
    {
     "data": {
      "text/plain": [
       "ISBN                   0\n",
       "Book-Title             0\n",
       "Book-Author            1\n",
       "Year-Of-Publication    0\n",
       "Publisher              2\n",
       "Image-URL-S            0\n",
       "Image-URL-M            0\n",
       "Image-URL-L            3\n",
       "dtype: int64"
      ]
     },
     "execution_count": 7,
     "metadata": {},
     "output_type": "execute_result"
    }
   ],
   "source": [
    "# find the null value in books dataset\n",
    "books.isnull().sum()"
   ]
  },
  {
   "cell_type": "code",
   "execution_count": 8,
   "metadata": {
    "execution": {
     "iopub.execute_input": "2023-09-20T20:06:03.54203Z",
     "iopub.status.busy": "2023-09-20T20:06:03.541138Z",
     "iopub.status.idle": "2023-09-20T20:06:03.70939Z",
     "shell.execute_reply": "2023-09-20T20:06:03.708124Z",
     "shell.execute_reply.started": "2023-09-20T20:06:03.541978Z"
    }
   },
   "outputs": [],
   "source": [
    "# drop the missing values\n",
    "books.dropna(inplace=True)"
   ]
  },
  {
   "cell_type": "code",
   "execution_count": 9,
   "metadata": {
    "execution": {
     "iopub.execute_input": "2023-09-20T20:06:03.711608Z",
     "iopub.status.busy": "2023-09-20T20:06:03.711183Z",
     "iopub.status.idle": "2023-09-20T20:06:04.28575Z",
     "shell.execute_reply": "2023-09-20T20:06:04.284558Z",
     "shell.execute_reply.started": "2023-09-20T20:06:03.711558Z"
    }
   },
   "outputs": [
    {
     "data": {
      "text/plain": [
       "0"
      ]
     },
     "execution_count": 9,
     "metadata": {},
     "output_type": "execute_result"
    }
   ],
   "source": [
    "# dupilcated value\n",
    "books.duplicated().sum()"
   ]
  },
  {
   "cell_type": "code",
   "execution_count": 10,
   "metadata": {
    "execution": {
     "iopub.execute_input": "2023-09-20T20:06:04.287904Z",
     "iopub.status.busy": "2023-09-20T20:06:04.287474Z",
     "iopub.status.idle": "2023-09-20T20:06:04.315083Z",
     "shell.execute_reply": "2023-09-20T20:06:04.313835Z",
     "shell.execute_reply.started": "2023-09-20T20:06:04.287866Z"
    }
   },
   "outputs": [
    {
     "data": {
      "text/plain": [
       "array([2002, 2001, 1999, 2000, 1998, 2003, 1997, 1996, 1995, 1994, 1993,\n",
       "       1992, 1991, 1990, 1989, 1988, 1987, 2004, 1986, '1999', 1985,\n",
       "       '2000', '2002', '1998', '2001', 1984, 0, '1997', '1996', 1983,\n",
       "       '1995', 1982, '1994', '2003', '1993', '1992', '1991', 1981, '1990',\n",
       "       '1989', '1988', 1980, '1987', '1986', 1979, 1978, '1985', 1977,\n",
       "       '1984', '2004', '1983', 1976, '1982', '0', '1981', 1975, '1980',\n",
       "       1974, '1979', 1973, '1978', 1972, '1977', '1976', '1975', 1971,\n",
       "       '1974', 1970, '1973', 1969, '1972', '1971', 1968, '1970', 1966,\n",
       "       1967, 1965, 1964, '1969', 1963, 1960, 1961, 1962, 1959, '1968',\n",
       "       1958, 1957, '1965', 1953, 1955, '1960', 1956, '1961', 1954, '1966',\n",
       "       '1962', '1967', '1963', '1964', 1951, 2005, 1940, '1959', '1956',\n",
       "       1920, '1957', '1955', 1952, 1950, '1958', '2005', '1953', 1942,\n",
       "       1930, 1946, '1952', 1947, 1911, '1911', '1951', '1950', 1949, 1941,\n",
       "       '1940', '1954', 1923, 1939, 1901, 1929, 1938, 1948, 1943, 1945,\n",
       "       '1920', 1937, 1936, 2030, '1947', '2006', '1944', 1935, 1932,\n",
       "       '2030', '1923', '1948', '1942', '1932', '1933', '1945', '1941',\n",
       "       '1900', '1943', '1939', '1922', '1946', 1931, 2010, 1925, '1936',\n",
       "       2020, 1921, 1928, 1902, 1933, '1909', '1949', 2050, '1376', '1926',\n",
       "       '2024', '1938', '1897', '2020', '2011', '1378', '2008', '1919',\n",
       "       1908, '1930', '1931', 2011, 1926, 1904, 1927, 1914, 1934, 1910,\n",
       "       1924, 1900, 2038, 2026, 1944, 1917, 1906, 1806, 2021, '1924',\n",
       "       '2012', '1927', '2037'], dtype=object)"
      ]
     },
     "execution_count": 10,
     "metadata": {},
     "output_type": "execute_result"
    }
   ],
   "source": [
    "\n",
    "books['Year-Of-Publication'].value_counts().index.values"
   ]
  },
  {
   "cell_type": "markdown",
   "metadata": {},
   "source": [
    " the invalid or non-year values like `'0' and '1376'`."
   ]
  },
  {
   "cell_type": "code",
   "execution_count": 9,
   "metadata": {
    "execution": {
     "iopub.execute_input": "2023-09-20T20:06:04.319819Z",
     "iopub.status.busy": "2023-09-20T20:06:04.319178Z",
     "iopub.status.idle": "2023-09-20T20:06:04.522708Z",
     "shell.execute_reply": "2023-09-20T20:06:04.521617Z",
     "shell.execute_reply.started": "2023-09-20T20:06:04.319785Z"
    }
   },
   "outputs": [],
   "source": [
    "# Step 1: Filter out invalid or non-year values\n",
    "valid_years = books['Year-Of-Publication'].astype(str).str.isnumeric()\n",
    "books = books[valid_years]\n",
    "\n",
    "# Step 2: Convert the column data to integers\n",
    "books['Year-Of-Publication'] = books['Year-Of-Publication'].astype(int)\n",
    "\n",
    "# Step 3: Create a new datetime column from the integers representing years\n",
    "books['Publication_Date'] = pd.to_datetime(books['Year-Of-Publication'], format='%Y', errors='coerce')\n",
    "\n",
    "# Drop the old 'Year-Of-Publication' column if you don't need it anymore\n",
    "books.drop(columns=['Year-Of-Publication'], inplace=True)\n",
    "\n",
    "# Display the DataFrame to check the new datetime column\n",
    "books = pd.DataFrame(books)\n"
   ]
  },
  {
   "cell_type": "code",
   "execution_count": 10,
   "metadata": {
    "execution": {
     "iopub.execute_input": "2023-09-20T20:06:04.524813Z",
     "iopub.status.busy": "2023-09-20T20:06:04.524201Z",
     "iopub.status.idle": "2023-09-20T20:06:04.559019Z",
     "shell.execute_reply": "2023-09-20T20:06:04.558057Z",
     "shell.execute_reply.started": "2023-09-20T20:06:04.524774Z"
    }
   },
   "outputs": [],
   "source": [
    "# Step 4: Create a new column with only the year part as integers\n",
    "books['Year-Of-Publication'] = books['Publication_Date'].dt.year"
   ]
  },
  {
   "cell_type": "code",
   "execution_count": 11,
   "metadata": {
    "execution": {
     "iopub.execute_input": "2023-09-20T20:06:04.561016Z",
     "iopub.status.busy": "2023-09-20T20:06:04.560598Z",
     "iopub.status.idle": "2023-09-20T20:06:04.580245Z",
     "shell.execute_reply": "2023-09-20T20:06:04.579101Z",
     "shell.execute_reply.started": "2023-09-20T20:06:04.560977Z"
    }
   },
   "outputs": [
    {
     "data": {
      "text/plain": [
       "array([2002., 1999., 2001., 2000., 1998., 1997., 2003., 1996., 1995.,\n",
       "       1994., 1993., 1992., 1991., 1990., 1989., 1988., 1987., 1986.,\n",
       "       2004., 1985., 1984., 1983., 1982., 1981., 1980., 1979., 1978.,\n",
       "       1977., 1976., 1975., 1974., 1973., 1972., 1971., 1970., 1969.,\n",
       "       1968., 1966., 1967., 1965., 1964., 1960., 1963., 1961., 1962.,\n",
       "       1959., 1958., 1957., 1956., 1955., 1953., 1954., 2005., 1951.,\n",
       "       1940., 1952., 1920., 1950., 1911., 1942., 1947., 1930., 1946.,\n",
       "       1923., 1949., 1941., 1939., 1948., 1943., 1945., 1929., 1936.,\n",
       "       1938., 2030., 1901., 1932., 1937., 1944., 1933., 1935., 2006.,\n",
       "       1900., 2020., 1931., 1924., 1922., 1902., 1909., 1921., 1926.,\n",
       "       1925., 2050., 1927., 2010., 2011., 1928., 1908., 1806., 1897.,\n",
       "       2026., 2024., 2021., 1904., 1906., 1910., 2012., 1914., 1917.,\n",
       "       1919., 2008., 2037., 1934., 2038.])"
      ]
     },
     "execution_count": 11,
     "metadata": {},
     "output_type": "execute_result"
    }
   ],
   "source": [
    "books['Year-Of-Publication'].value_counts().index.values\n"
   ]
  },
  {
   "cell_type": "code",
   "execution_count": 12,
   "metadata": {
    "execution": {
     "iopub.execute_input": "2023-09-20T20:06:04.582265Z",
     "iopub.status.busy": "2023-09-20T20:06:04.581817Z",
     "iopub.status.idle": "2023-09-20T20:06:04.849963Z",
     "shell.execute_reply": "2023-09-20T20:06:04.849068Z",
     "shell.execute_reply.started": "2023-09-20T20:06:04.582228Z"
    }
   },
   "outputs": [],
   "source": [
    "# this all the invalid data at this time\n",
    "\n",
    "books = books[~(books['Year-Of-Publication'] == 2037)]\n",
    "books = books[~(books['Year-Of-Publication'] == 2026)] \n",
    "books = books[~(books['Year-Of-Publication'] == 2030)]\n",
    "books = books[~(books['Year-Of-Publication'] == 2050)]\n",
    "books = books[~(books['Year-Of-Publication'] == 2038)]"
   ]
  },
  {
   "cell_type": "code",
   "execution_count": 13,
   "metadata": {
    "execution": {
     "iopub.execute_input": "2023-09-20T20:06:04.852166Z",
     "iopub.status.busy": "2023-09-20T20:06:04.851749Z",
     "iopub.status.idle": "2023-09-20T20:06:05.898456Z",
     "shell.execute_reply": "2023-09-20T20:06:05.897549Z",
     "shell.execute_reply.started": "2023-09-20T20:06:04.852129Z"
    }
   },
   "outputs": [
    {
     "data": {
      "image/png": "[encoded data removed]",
      "text/plain": [
       "<Figure size 1440x720 with 1 Axes>"
      ]
     },
     "metadata": {
      "needs_background": "light"
     },
     "output_type": "display_data"
    }
   ],
   "source": [
    "plt.figure(figsize=(20,10))\n",
    "sns.countplot(x=books['Year-Of-Publication']);\n",
    "plt.xticks(rotation=90)\n",
    "plt.show()"
   ]
  },
  {
   "cell_type": "markdown",
   "metadata": {},
   "source": [
    "`Note` : the most books Year-of-Publication is between `1980-2004`"
   ]
  },
  {
   "cell_type": "code",
   "execution_count": 14,
   "metadata": {
    "execution": {
     "iopub.execute_input": "2023-09-20T20:06:05.900707Z",
     "iopub.status.busy": "2023-09-20T20:06:05.90027Z",
     "iopub.status.idle": "2023-09-20T20:06:06.220987Z",
     "shell.execute_reply": "2023-09-20T20:06:06.219962Z",
     "shell.execute_reply.started": "2023-09-20T20:06:05.900669Z"
    }
   },
   "outputs": [
    {
     "data": {
      "text/plain": [
       "<AxesSubplot:>"
      ]
     },
     "execution_count": 14,
     "metadata": {},
     "output_type": "execute_result"
    },
    {
     "data": {
      "image/png": "[encoded data removed]",
      "text/plain": [
       "<Figure size 432x288 with 1 Axes>"
      ]
     },
     "metadata": {
      "needs_background": "light"
     },
     "output_type": "display_data"
    }
   ],
   "source": [
    "# top 10 Publisher\n",
    "books['Publisher'].value_counts().head(10).plot(kind='bar')"
   ]
  },
  {
   "cell_type": "code",
   "execution_count": 15,
   "metadata": {
    "execution": {
     "iopub.execute_input": "2023-09-20T20:06:06.223068Z",
     "iopub.status.busy": "2023-09-20T20:06:06.222513Z",
     "iopub.status.idle": "2023-09-20T20:06:06.249184Z",
     "shell.execute_reply": "2023-09-20T20:06:06.248102Z",
     "shell.execute_reply.started": "2023-09-20T20:06:06.223025Z"
    }
   },
   "outputs": [
    {
     "data": {
      "text/plain": [
       "User-ID      0.00\n",
       "Location     0.00\n",
       "Age         39.72\n",
       "dtype: float64"
      ]
     },
     "execution_count": 15,
     "metadata": {},
     "output_type": "execute_result"
    }
   ],
   "source": [
    "# find the null values \n",
    "round(100*(users.isnull().sum()/len(users.index)),2)"
   ]
  },
  {
   "cell_type": "code",
   "execution_count": 18,
   "metadata": {
    "execution": {
     "iopub.execute_input": "2023-09-20T20:06:06.250863Z",
     "iopub.status.busy": "2023-09-20T20:06:06.250524Z",
     "iopub.status.idle": "2023-09-20T20:06:06.26803Z",
     "shell.execute_reply": "2023-09-20T20:06:06.266924Z",
     "shell.execute_reply.started": "2023-09-20T20:06:06.25083Z"
    }
   },
   "outputs": [],
   "source": [
    "# remove the age column\n",
    "users.drop('Age',axis=1,inplace=True)"
   ]
  },
  {
   "cell_type": "code",
   "execution_count": 19,
   "metadata": {
    "execution": {
     "iopub.execute_input": "2023-09-20T20:06:06.26991Z",
     "iopub.status.busy": "2023-09-20T20:06:06.269559Z",
     "iopub.status.idle": "2023-09-20T20:06:06.428876Z",
     "shell.execute_reply": "2023-09-20T20:06:06.427757Z",
     "shell.execute_reply.started": "2023-09-20T20:06:06.269845Z"
    }
   },
   "outputs": [],
   "source": [
    "users['Location'] = users['Location'].apply(lambda x:x.split(',')[-1])"
   ]
  },
  {
   "cell_type": "code",
   "execution_count": 20,
   "metadata": {
    "execution": {
     "iopub.execute_input": "2023-09-20T20:06:06.430446Z",
     "iopub.status.busy": "2023-09-20T20:06:06.430124Z",
     "iopub.status.idle": "2023-09-20T20:06:06.737645Z",
     "shell.execute_reply": "2023-09-20T20:06:06.736593Z",
     "shell.execute_reply.started": "2023-09-20T20:06:06.430419Z"
    }
   },
   "outputs": [
    {
     "data": {
      "text/plain": [
       "<AxesSubplot: >"
      ]
     },
     "execution_count": 20,
     "metadata": {},
     "output_type": "execute_result"
    },
    {
     "data": {
      "image/png": "[encoded data removed]",
      "text/plain": [
       "<Figure size 640x480 with 1 Axes>"
      ]
     },
     "metadata": {},
     "output_type": "display_data"
    }
   ],
   "source": [
    "# top 10 user location \n",
    "users['Location'].value_counts().head(10).plot(kind='bar')"
   ]
  },
  {
   "cell_type": "code",
   "execution_count": 21,
   "metadata": {
    "execution": {
     "iopub.execute_input": "2023-09-20T20:06:06.740205Z",
     "iopub.status.busy": "2023-09-20T20:06:06.739431Z",
     "iopub.status.idle": "2023-09-20T20:06:06.824293Z",
     "shell.execute_reply": "2023-09-20T20:06:06.822952Z",
     "shell.execute_reply.started": "2023-09-20T20:06:06.740162Z"
    }
   },
   "outputs": [
    {
     "data": {
      "text/plain": [
       "User-ID        0\n",
       "ISBN           0\n",
       "Book-Rating    0\n",
       "dtype: int64"
      ]
     },
     "execution_count": 21,
     "metadata": {},
     "output_type": "execute_result"
    }
   ],
   "source": [
    "# null values \n",
    "ratings.isnull().sum()"
   ]
  },
  {
   "cell_type": "code",
   "execution_count": 22,
   "metadata": {
    "execution": {
     "iopub.execute_input": "2023-09-20T20:06:06.825958Z",
     "iopub.status.busy": "2023-09-20T20:06:06.825648Z",
     "iopub.status.idle": "2023-09-20T20:06:07.148079Z",
     "shell.execute_reply": "2023-09-20T20:06:07.146978Z",
     "shell.execute_reply.started": "2023-09-20T20:06:06.825932Z"
    }
   },
   "outputs": [
    {
     "data": {
      "text/plain": [
       "0"
      ]
     },
     "execution_count": 22,
     "metadata": {},
     "output_type": "execute_result"
    }
   ],
   "source": [
    "# duplicate values\n",
    "ratings.duplicated().sum()"
   ]
  },
  {
   "cell_type": "markdown",
   "metadata": {},
   "source": [
    "# Popularity based recomender system\n",
    "\n",
    "**we will display the `Top 50 books` with highest average rating but we will consider only those books who have got minimum 250 votes**"
   ]
  },
  {
   "cell_type": "code",
   "execution_count": 16,
   "metadata": {
    "execution": {
     "iopub.execute_input": "2023-09-20T20:06:07.149849Z",
     "iopub.status.busy": "2023-09-20T20:06:07.149533Z",
     "iopub.status.idle": "2023-09-20T20:06:08.205003Z",
     "shell.execute_reply": "2023-09-20T20:06:08.20404Z",
     "shell.execute_reply.started": "2023-09-20T20:06:07.149823Z"
    }
   },
   "outputs": [],
   "source": [
    "# merge the data ratings and books based on 'ISBN' columns\n",
    "\n",
    "rating_books_name = ratings.merge(books,on='ISBN')\n"
   ]
  },
  {
   "cell_type": "code",
   "execution_count": 17,
   "metadata": {
    "execution": {
     "iopub.execute_input": "2023-09-20T20:06:08.207017Z",
     "iopub.status.busy": "2023-09-20T20:06:08.206491Z",
     "iopub.status.idle": "2023-09-20T20:06:09.252887Z",
     "shell.execute_reply": "2023-09-20T20:06:09.251806Z",
     "shell.execute_reply.started": "2023-09-20T20:06:08.206975Z"
    }
   },
   "outputs": [
    {
     "data": {
      "text/html": [
       "<div>\n",
       "<style scoped>\n",
       "    .dataframe tbody tr th:only-of-type {\n",
       "        vertical-align: middle;\n",
       "    }\n",
       "\n",
       "    .dataframe tbody tr th {\n",
       "        vertical-align: top;\n",
       "    }\n",
       "\n",
       "    .dataframe thead th {\n",
       "        text-align: right;\n",
       "    }\n",
       "</style>\n",
       "<table border=\"1\" class=\"dataframe\">\n",
       "  <thead>\n",
       "    <tr style=\"text-align: right;\">\n",
       "      <th></th>\n",
       "      <th>Book-Title</th>\n",
       "      <th>Totle_number_rating</th>\n",
       "    </tr>\n",
       "  </thead>\n",
       "  <tbody>\n",
       "    <tr>\n",
       "      <th>0</th>\n",
       "      <td>A Light in the Storm: The Civil War Diary of ...</td>\n",
       "      <td>4</td>\n",
       "    </tr>\n",
       "    <tr>\n",
       "      <th>1</th>\n",
       "      <td>Always Have Popsicles</td>\n",
       "      <td>1</td>\n",
       "    </tr>\n",
       "    <tr>\n",
       "      <th>2</th>\n",
       "      <td>Apple Magic (The Collector's series)</td>\n",
       "      <td>1</td>\n",
       "    </tr>\n",
       "    <tr>\n",
       "      <th>3</th>\n",
       "      <td>Ask Lily (Young Women of Faith: Lily Series, ...</td>\n",
       "      <td>1</td>\n",
       "    </tr>\n",
       "    <tr>\n",
       "      <th>4</th>\n",
       "      <td>Beyond IBM: Leadership Marketing and Finance ...</td>\n",
       "      <td>1</td>\n",
       "    </tr>\n",
       "  </tbody>\n",
       "</table>\n",
       "</div>"
      ],
      "text/plain": [
       "                                          Book-Title  Totle_number_rating\n",
       "0   A Light in the Storm: The Civil War Diary of ...                    4\n",
       "1                              Always Have Popsicles                    1\n",
       "2               Apple Magic (The Collector's series)                    1\n",
       "3   Ask Lily (Young Women of Faith: Lily Series, ...                    1\n",
       "4   Beyond IBM: Leadership Marketing and Finance ...                    1"
      ]
     },
     "execution_count": 17,
     "metadata": {},
     "output_type": "execute_result"
    }
   ],
   "source": [
    "# first of all groupby 'Book-Title' and find the totle number(count) of voting \n",
    "numer_rating = rating_books_name.groupby('Book-Title').count()['Book-Rating'].reset_index()\n",
    "numer_rating.rename(columns={'Book-Rating':'Totle_number_rating'},inplace=True)\n",
    "numer_rating.head()"
   ]
  },
  {
   "cell_type": "code",
   "execution_count": 18,
   "metadata": {
    "execution": {
     "iopub.execute_input": "2023-09-20T20:06:09.25486Z",
     "iopub.status.busy": "2023-09-20T20:06:09.254363Z",
     "iopub.status.idle": "2023-09-20T20:06:09.902543Z",
     "shell.execute_reply": "2023-09-20T20:06:09.900837Z",
     "shell.execute_reply.started": "2023-09-20T20:06:09.254822Z"
    }
   },
   "outputs": [
    {
     "data": {
      "text/html": [
       "<div>\n",
       "<style scoped>\n",
       "    .dataframe tbody tr th:only-of-type {\n",
       "        vertical-align: middle;\n",
       "    }\n",
       "\n",
       "    .dataframe tbody tr th {\n",
       "        vertical-align: top;\n",
       "    }\n",
       "\n",
       "    .dataframe thead th {\n",
       "        text-align: right;\n",
       "    }\n",
       "</style>\n",
       "<table border=\"1\" class=\"dataframe\">\n",
       "  <thead>\n",
       "    <tr style=\"text-align: right;\">\n",
       "      <th></th>\n",
       "      <th>Book-Title</th>\n",
       "      <th>Totle_avg_rating</th>\n",
       "    </tr>\n",
       "  </thead>\n",
       "  <tbody>\n",
       "    <tr>\n",
       "      <th>0</th>\n",
       "      <td>A Light in the Storm: The Civil War Diary of ...</td>\n",
       "      <td>2.25</td>\n",
       "    </tr>\n",
       "    <tr>\n",
       "      <th>1</th>\n",
       "      <td>Always Have Popsicles</td>\n",
       "      <td>0.00</td>\n",
       "    </tr>\n",
       "    <tr>\n",
       "      <th>2</th>\n",
       "      <td>Apple Magic (The Collector's series)</td>\n",
       "      <td>0.00</td>\n",
       "    </tr>\n",
       "    <tr>\n",
       "      <th>3</th>\n",
       "      <td>Ask Lily (Young Women of Faith: Lily Series, ...</td>\n",
       "      <td>8.00</td>\n",
       "    </tr>\n",
       "    <tr>\n",
       "      <th>4</th>\n",
       "      <td>Beyond IBM: Leadership Marketing and Finance ...</td>\n",
       "      <td>0.00</td>\n",
       "    </tr>\n",
       "  </tbody>\n",
       "</table>\n",
       "</div>"
      ],
      "text/plain": [
       "                                          Book-Title  Totle_avg_rating\n",
       "0   A Light in the Storm: The Civil War Diary of ...              2.25\n",
       "1                              Always Have Popsicles              0.00\n",
       "2               Apple Magic (The Collector's series)              0.00\n",
       "3   Ask Lily (Young Women of Faith: Lily Series, ...              8.00\n",
       "4   Beyond IBM: Leadership Marketing and Finance ...              0.00"
      ]
     },
     "execution_count": 18,
     "metadata": {},
     "output_type": "execute_result"
    }
   ],
   "source": [
    "# totle avg-rating\n",
    "avg_rating = rating_books_name.groupby('Book-Title')['Book-Rating'].mean().reset_index()\n",
    "avg_rating.rename(columns={'Book-Rating':'Totle_avg_rating'},inplace=True)\n",
    "avg_rating.head()"
   ]
  },
  {
   "cell_type": "code",
   "execution_count": 20,
   "metadata": {
    "execution": {
     "iopub.execute_input": "2023-09-20T20:06:09.904145Z",
     "iopub.status.busy": "2023-09-20T20:06:09.903808Z",
     "iopub.status.idle": "2023-09-20T20:06:10.10561Z",
     "shell.execute_reply": "2023-09-20T20:06:10.104417Z",
     "shell.execute_reply.started": "2023-09-20T20:06:09.904114Z"
    }
   },
   "outputs": [
    {
     "data": {
      "text/html": [
       "<div>\n",
       "<style scoped>\n",
       "    .dataframe tbody tr th:only-of-type {\n",
       "        vertical-align: middle;\n",
       "    }\n",
       "\n",
       "    .dataframe tbody tr th {\n",
       "        vertical-align: top;\n",
       "    }\n",
       "\n",
       "    .dataframe thead th {\n",
       "        text-align: right;\n",
       "    }\n",
       "</style>\n",
       "<table border=\"1\" class=\"dataframe\">\n",
       "  <thead>\n",
       "    <tr style=\"text-align: right;\">\n",
       "      <th></th>\n",
       "      <th>Book-Title</th>\n",
       "      <th>Totle_number_rating</th>\n",
       "      <th>Totle_avg_rating</th>\n",
       "    </tr>\n",
       "  </thead>\n",
       "  <tbody>\n",
       "    <tr>\n",
       "      <th>0</th>\n",
       "      <td>A Light in the Storm: The Civil War Diary of ...</td>\n",
       "      <td>4</td>\n",
       "      <td>2.25</td>\n",
       "    </tr>\n",
       "    <tr>\n",
       "      <th>1</th>\n",
       "      <td>Always Have Popsicles</td>\n",
       "      <td>1</td>\n",
       "      <td>0.00</td>\n",
       "    </tr>\n",
       "    <tr>\n",
       "      <th>2</th>\n",
       "      <td>Apple Magic (The Collector's series)</td>\n",
       "      <td>1</td>\n",
       "      <td>0.00</td>\n",
       "    </tr>\n",
       "    <tr>\n",
       "      <th>3</th>\n",
       "      <td>Ask Lily (Young Women of Faith: Lily Series, ...</td>\n",
       "      <td>1</td>\n",
       "      <td>8.00</td>\n",
       "    </tr>\n",
       "    <tr>\n",
       "      <th>4</th>\n",
       "      <td>Beyond IBM: Leadership Marketing and Finance ...</td>\n",
       "      <td>1</td>\n",
       "      <td>0.00</td>\n",
       "    </tr>\n",
       "  </tbody>\n",
       "</table>\n",
       "</div>"
      ],
      "text/plain": [
       "                                          Book-Title  Totle_number_rating  \\\n",
       "0   A Light in the Storm: The Civil War Diary of ...                    4   \n",
       "1                              Always Have Popsicles                    1   \n",
       "2               Apple Magic (The Collector's series)                    1   \n",
       "3   Ask Lily (Young Women of Faith: Lily Series, ...                    1   \n",
       "4   Beyond IBM: Leadership Marketing and Finance ...                    1   \n",
       "\n",
       "   Totle_avg_rating  \n",
       "0              2.25  \n",
       "1              0.00  \n",
       "2              0.00  \n",
       "3              8.00  \n",
       "4              0.00  "
      ]
     },
     "execution_count": 20,
     "metadata": {},
     "output_type": "execute_result"
    }
   ],
   "source": [
    "# merge the 'avg_rating' and 'number_rating' base on 'Book-Title'\n",
    "\n",
    "popular_df = numer_rating.merge(avg_rating,on='Book-Title')\n",
    "popular_df.head()"
   ]
  },
  {
   "cell_type": "markdown",
   "metadata": {},
   "source": [
    "**highest average rating but we will consider only those books who have got minimum 250 votes**"
   ]
  },
  {
   "cell_type": "code",
   "execution_count": 21,
   "metadata": {
    "execution": {
     "iopub.execute_input": "2023-09-20T20:06:10.107493Z",
     "iopub.status.busy": "2023-09-20T20:06:10.10717Z",
     "iopub.status.idle": "2023-09-20T20:06:10.120329Z",
     "shell.execute_reply": "2023-09-20T20:06:10.119416Z",
     "shell.execute_reply.started": "2023-09-20T20:06:10.107466Z"
    }
   },
   "outputs": [
    {
     "data": {
      "text/html": [
       "<div>\n",
       "<style scoped>\n",
       "    .dataframe tbody tr th:only-of-type {\n",
       "        vertical-align: middle;\n",
       "    }\n",
       "\n",
       "    .dataframe tbody tr th {\n",
       "        vertical-align: top;\n",
       "    }\n",
       "\n",
       "    .dataframe thead th {\n",
       "        text-align: right;\n",
       "    }\n",
       "</style>\n",
       "<table border=\"1\" class=\"dataframe\">\n",
       "  <thead>\n",
       "    <tr style=\"text-align: right;\">\n",
       "      <th></th>\n",
       "      <th>Book-Title</th>\n",
       "      <th>Totle_number_rating</th>\n",
       "      <th>Totle_avg_rating</th>\n",
       "    </tr>\n",
       "  </thead>\n",
       "  <tbody>\n",
       "    <tr>\n",
       "      <th>80426</th>\n",
       "      <td>Harry Potter and the Prisoner of Azkaban (Book 3)</td>\n",
       "      <td>428</td>\n",
       "      <td>5.852804</td>\n",
       "    </tr>\n",
       "    <tr>\n",
       "      <th>80414</th>\n",
       "      <td>Harry Potter and the Goblet of Fire (Book 4)</td>\n",
       "      <td>387</td>\n",
       "      <td>5.824289</td>\n",
       "    </tr>\n",
       "    <tr>\n",
       "      <th>80433</th>\n",
       "      <td>Harry Potter and the Sorcerer's Stone (Book 1)</td>\n",
       "      <td>278</td>\n",
       "      <td>5.737410</td>\n",
       "    </tr>\n",
       "    <tr>\n",
       "      <th>80418</th>\n",
       "      <td>Harry Potter and the Order of the Phoenix (Boo...</td>\n",
       "      <td>347</td>\n",
       "      <td>5.501441</td>\n",
       "    </tr>\n",
       "    <tr>\n",
       "      <th>80406</th>\n",
       "      <td>Harry Potter and the Chamber of Secrets (Book 2)</td>\n",
       "      <td>556</td>\n",
       "      <td>5.183453</td>\n",
       "    </tr>\n",
       "  </tbody>\n",
       "</table>\n",
       "</div>"
      ],
      "text/plain": [
       "                                              Book-Title  Totle_number_rating  \\\n",
       "80426  Harry Potter and the Prisoner of Azkaban (Book 3)                  428   \n",
       "80414       Harry Potter and the Goblet of Fire (Book 4)                  387   \n",
       "80433     Harry Potter and the Sorcerer's Stone (Book 1)                  278   \n",
       "80418  Harry Potter and the Order of the Phoenix (Boo...                  347   \n",
       "80406   Harry Potter and the Chamber of Secrets (Book 2)                  556   \n",
       "\n",
       "       Totle_avg_rating  \n",
       "80426          5.852804  \n",
       "80414          5.824289  \n",
       "80433          5.737410  \n",
       "80418          5.501441  \n",
       "80406          5.183453  "
      ]
     },
     "execution_count": 21,
     "metadata": {},
     "output_type": "execute_result"
    }
   ],
   "source": [
    "popular_df = popular_df[popular_df['Totle_number_rating'] >= 250].sort_values('Totle_avg_rating',ascending=False).head(50)\n",
    "popular_df.head()"
   ]
  },
  {
   "cell_type": "code",
   "execution_count": 24,
   "metadata": {
    "execution": {
     "iopub.execute_input": "2023-09-20T20:06:10.122646Z",
     "iopub.status.busy": "2023-09-20T20:06:10.12188Z",
     "iopub.status.idle": "2023-09-20T20:06:10.263691Z",
     "shell.execute_reply": "2023-09-20T20:06:10.262579Z",
     "shell.execute_reply.started": "2023-09-20T20:06:10.12254Z"
    }
   },
   "outputs": [
    {
     "ename": "KeyError",
     "evalue": "\"['Book-Author'] not in index\"",
     "output_type": "error",
     "traceback": [
      "\u001b[1;31m---------------------------------------------------------------------------\u001b[0m",
      "\u001b[1;31mKeyError\u001b[0m                                  Traceback (most recent call last)",
      "\u001b[1;32m~\\AppData\\Local\\Temp\\ipykernel_26320\\536970057.py\u001b[0m in \u001b[0;36m<module>\u001b[1;34m\u001b[0m\n\u001b[0;32m      3\u001b[0m \u001b[1;31m# Books-Title have many duplicated values\u001b[0m\u001b[1;33m\u001b[0m\u001b[1;33m\u001b[0m\u001b[0m\n\u001b[0;32m      4\u001b[0m \u001b[1;31m# drop_duplicated\u001b[0m\u001b[1;33m\u001b[0m\u001b[1;33m\u001b[0m\u001b[0m\n\u001b[1;32m----> 5\u001b[1;33m \u001b[0mpopular_df\u001b[0m \u001b[1;33m=\u001b[0m \u001b[0mpopular_df\u001b[0m\u001b[1;33m.\u001b[0m\u001b[0mmerge\u001b[0m\u001b[1;33m(\u001b[0m\u001b[0mbooks\u001b[0m\u001b[1;33m,\u001b[0m\u001b[0mon\u001b[0m\u001b[1;33m=\u001b[0m\u001b[1;34m'Book-Title'\u001b[0m\u001b[1;33m)\u001b[0m\u001b[1;33m.\u001b[0m\u001b[0mdrop_duplicates\u001b[0m\u001b[1;33m(\u001b[0m\u001b[1;34m'Book-Title'\u001b[0m\u001b[1;33m)\u001b[0m\u001b[1;33m[\u001b[0m\u001b[1;33m[\u001b[0m\u001b[1;34m'Book-Title'\u001b[0m\u001b[1;33m,\u001b[0m\u001b[1;34m'Book-Author'\u001b[0m\u001b[1;33m,\u001b[0m \u001b[1;34m'Image-URL-L'\u001b[0m\u001b[1;33m,\u001b[0m \u001b[1;34m'Totle_number_rating'\u001b[0m\u001b[1;33m,\u001b[0m\u001b[1;34m'Totle_avg_rating'\u001b[0m\u001b[1;33m]\u001b[0m\u001b[1;33m]\u001b[0m\u001b[1;33m\u001b[0m\u001b[0m\n\u001b[0m\u001b[0;32m      6\u001b[0m \u001b[0mpopular_df\u001b[0m\u001b[1;33m.\u001b[0m\u001b[0mhead\u001b[0m\u001b[1;33m(\u001b[0m\u001b[1;33m)\u001b[0m\u001b[1;33m\u001b[0m\u001b[0m\n",
      "\u001b[1;32mD:\\edwin\\Anaconda\\envs\\tfgpu\\lib\\site-packages\\pandas\\core\\frame.py\u001b[0m in \u001b[0;36m__getitem__\u001b[1;34m(self, key)\u001b[0m\n\u001b[0;32m   2910\u001b[0m             \u001b[1;32mif\u001b[0m \u001b[0mis_iterator\u001b[0m\u001b[1;33m(\u001b[0m\u001b[0mkey\u001b[0m\u001b[1;33m)\u001b[0m\u001b[1;33m:\u001b[0m\u001b[1;33m\u001b[0m\u001b[0m\n\u001b[0;32m   2911\u001b[0m                 \u001b[0mkey\u001b[0m \u001b[1;33m=\u001b[0m \u001b[0mlist\u001b[0m\u001b[1;33m(\u001b[0m\u001b[0mkey\u001b[0m\u001b[1;33m)\u001b[0m\u001b[1;33m\u001b[0m\u001b[0m\n\u001b[1;32m-> 2912\u001b[1;33m             \u001b[0mindexer\u001b[0m \u001b[1;33m=\u001b[0m \u001b[0mself\u001b[0m\u001b[1;33m.\u001b[0m\u001b[0mloc\u001b[0m\u001b[1;33m.\u001b[0m\u001b[0m_get_listlike_indexer\u001b[0m\u001b[1;33m(\u001b[0m\u001b[0mkey\u001b[0m\u001b[1;33m,\u001b[0m \u001b[0maxis\u001b[0m\u001b[1;33m=\u001b[0m\u001b[1;36m1\u001b[0m\u001b[1;33m,\u001b[0m \u001b[0mraise_missing\u001b[0m\u001b[1;33m=\u001b[0m\u001b[1;32mTrue\u001b[0m\u001b[1;33m)\u001b[0m\u001b[1;33m[\u001b[0m\u001b[1;36m1\u001b[0m\u001b[1;33m]\u001b[0m\u001b[1;33m\u001b[0m\u001b[0m\n\u001b[0m\u001b[0;32m   2913\u001b[0m \u001b[1;33m\u001b[0m\u001b[0m\n\u001b[0;32m   2914\u001b[0m         \u001b[1;31m# take() does not accept boolean indexers\u001b[0m\u001b[1;33m\u001b[0m\u001b[1;33m\u001b[0m\u001b[0m\n",
      "\u001b[1;32mD:\\edwin\\Anaconda\\envs\\tfgpu\\lib\\site-packages\\pandas\\core\\indexing.py\u001b[0m in \u001b[0;36m_get_listlike_indexer\u001b[1;34m(self, key, axis, raise_missing)\u001b[0m\n\u001b[0;32m   1252\u001b[0m             \u001b[0mkeyarr\u001b[0m\u001b[1;33m,\u001b[0m \u001b[0mindexer\u001b[0m\u001b[1;33m,\u001b[0m \u001b[0mnew_indexer\u001b[0m \u001b[1;33m=\u001b[0m \u001b[0max\u001b[0m\u001b[1;33m.\u001b[0m\u001b[0m_reindex_non_unique\u001b[0m\u001b[1;33m(\u001b[0m\u001b[0mkeyarr\u001b[0m\u001b[1;33m)\u001b[0m\u001b[1;33m\u001b[0m\u001b[0m\n\u001b[0;32m   1253\u001b[0m \u001b[1;33m\u001b[0m\u001b[0m\n\u001b[1;32m-> 1254\u001b[1;33m         \u001b[0mself\u001b[0m\u001b[1;33m.\u001b[0m\u001b[0m_validate_read_indexer\u001b[0m\u001b[1;33m(\u001b[0m\u001b[0mkeyarr\u001b[0m\u001b[1;33m,\u001b[0m \u001b[0mindexer\u001b[0m\u001b[1;33m,\u001b[0m \u001b[0maxis\u001b[0m\u001b[1;33m,\u001b[0m \u001b[0mraise_missing\u001b[0m\u001b[1;33m=\u001b[0m\u001b[0mraise_missing\u001b[0m\u001b[1;33m)\u001b[0m\u001b[1;33m\u001b[0m\u001b[0m\n\u001b[0m\u001b[0;32m   1255\u001b[0m         \u001b[1;32mreturn\u001b[0m \u001b[0mkeyarr\u001b[0m\u001b[1;33m,\u001b[0m \u001b[0mindexer\u001b[0m\u001b[1;33m\u001b[0m\u001b[0m\n\u001b[0;32m   1256\u001b[0m \u001b[1;33m\u001b[0m\u001b[0m\n",
      "\u001b[1;32mD:\\edwin\\Anaconda\\envs\\tfgpu\\lib\\site-packages\\pandas\\core\\indexing.py\u001b[0m in \u001b[0;36m_validate_read_indexer\u001b[1;34m(self, key, indexer, axis, raise_missing)\u001b[0m\n\u001b[0;32m   1302\u001b[0m             \u001b[1;32mif\u001b[0m \u001b[0mraise_missing\u001b[0m\u001b[1;33m:\u001b[0m\u001b[1;33m\u001b[0m\u001b[0m\n\u001b[0;32m   1303\u001b[0m                 \u001b[0mnot_found\u001b[0m \u001b[1;33m=\u001b[0m \u001b[0mlist\u001b[0m\u001b[1;33m(\u001b[0m\u001b[0mset\u001b[0m\u001b[1;33m(\u001b[0m\u001b[0mkey\u001b[0m\u001b[1;33m)\u001b[0m \u001b[1;33m-\u001b[0m \u001b[0mset\u001b[0m\u001b[1;33m(\u001b[0m\u001b[0max\u001b[0m\u001b[1;33m)\u001b[0m\u001b[1;33m)\u001b[0m\u001b[1;33m\u001b[0m\u001b[0m\n\u001b[1;32m-> 1304\u001b[1;33m                 \u001b[1;32mraise\u001b[0m \u001b[0mKeyError\u001b[0m\u001b[1;33m(\u001b[0m\u001b[1;34mf\"{not_found} not in index\"\u001b[0m\u001b[1;33m)\u001b[0m\u001b[1;33m\u001b[0m\u001b[0m\n\u001b[0m\u001b[0;32m   1305\u001b[0m \u001b[1;33m\u001b[0m\u001b[0m\n\u001b[0;32m   1306\u001b[0m             \u001b[1;31m# we skip the warning on Categorical\u001b[0m\u001b[1;33m\u001b[0m\u001b[1;33m\u001b[0m\u001b[0m\n",
      "\u001b[1;31mKeyError\u001b[0m: \"['Book-Author'] not in index\""
     ]
    }
   ],
   "source": [
    "#  many columns fetch the books dataset to show the website to help \n",
    "# merge the 'popular_df' and 'books' dataset \n",
    "# Books-Title have many duplicated values \n",
    "# drop_duplicated\n",
    "popular_df = popular_df.merge(books,on='Book-Title').drop_duplicates('Book-Title')[['Book-Title','Book-Author', 'Image-URL-M', 'Totle_number_rating','Totle_avg_rating']]\n",
    "popular_df.head()"
   ]
  },
  {
   "cell_type": "code",
   "execution_count": 25,
   "metadata": {
    "execution": {
     "iopub.execute_input": "2023-09-20T20:06:10.270327Z",
     "iopub.status.busy": "2023-09-20T20:06:10.269716Z",
     "iopub.status.idle": "2023-09-20T20:06:10.282548Z",
     "shell.execute_reply": "2023-09-20T20:06:10.281442Z",
     "shell.execute_reply.started": "2023-09-20T20:06:10.270283Z"
    }
   },
   "outputs": [
    {
     "data": {
      "text/html": [
       "<div>\n",
       "<style scoped>\n",
       "    .dataframe tbody tr th:only-of-type {\n",
       "        vertical-align: middle;\n",
       "    }\n",
       "\n",
       "    .dataframe tbody tr th {\n",
       "        vertical-align: top;\n",
       "    }\n",
       "\n",
       "    .dataframe thead th {\n",
       "        text-align: right;\n",
       "    }\n",
       "</style>\n",
       "<table border=\"1\" class=\"dataframe\">\n",
       "  <thead>\n",
       "    <tr style=\"text-align: right;\">\n",
       "      <th></th>\n",
       "      <th>Book-Title</th>\n",
       "      <th>Book-Author</th>\n",
       "      <th>Image-URL-M</th>\n",
       "      <th>Totle_number_rating</th>\n",
       "      <th>Totle_avg_rating</th>\n",
       "    </tr>\n",
       "  </thead>\n",
       "  <tbody>\n",
       "    <tr>\n",
       "      <th>0</th>\n",
       "      <td>Harry Potter and the Prisoner of Azkaban (Book 3)</td>\n",
       "      <td>J. K. Rowling</td>\n",
       "      <td>http://images.amazon.com/images/P/0439136350.0...</td>\n",
       "      <td>428</td>\n",
       "      <td>5.852804</td>\n",
       "    </tr>\n",
       "    <tr>\n",
       "      <th>3</th>\n",
       "      <td>Harry Potter and the Goblet of Fire (Book 4)</td>\n",
       "      <td>J. K. Rowling</td>\n",
       "      <td>http://images.amazon.com/images/P/0439139597.0...</td>\n",
       "      <td>387</td>\n",
       "      <td>5.824289</td>\n",
       "    </tr>\n",
       "    <tr>\n",
       "      <th>5</th>\n",
       "      <td>Harry Potter and the Sorcerer's Stone (Book 1)</td>\n",
       "      <td>J. K. Rowling</td>\n",
       "      <td>http://images.amazon.com/images/P/0590353403.0...</td>\n",
       "      <td>278</td>\n",
       "      <td>5.737410</td>\n",
       "    </tr>\n",
       "    <tr>\n",
       "      <th>9</th>\n",
       "      <td>Harry Potter and the Order of the Phoenix (Boo...</td>\n",
       "      <td>J. K. Rowling</td>\n",
       "      <td>http://images.amazon.com/images/P/043935806X.0...</td>\n",
       "      <td>347</td>\n",
       "      <td>5.501441</td>\n",
       "    </tr>\n",
       "    <tr>\n",
       "      <th>13</th>\n",
       "      <td>Harry Potter and the Chamber of Secrets (Book 2)</td>\n",
       "      <td>J. K. Rowling</td>\n",
       "      <td>http://images.amazon.com/images/P/0439064872.0...</td>\n",
       "      <td>556</td>\n",
       "      <td>5.183453</td>\n",
       "    </tr>\n",
       "  </tbody>\n",
       "</table>\n",
       "</div>"
      ],
      "text/plain": [
       "                                           Book-Title    Book-Author  \\\n",
       "0   Harry Potter and the Prisoner of Azkaban (Book 3)  J. K. Rowling   \n",
       "3        Harry Potter and the Goblet of Fire (Book 4)  J. K. Rowling   \n",
       "5      Harry Potter and the Sorcerer's Stone (Book 1)  J. K. Rowling   \n",
       "9   Harry Potter and the Order of the Phoenix (Boo...  J. K. Rowling   \n",
       "13   Harry Potter and the Chamber of Secrets (Book 2)  J. K. Rowling   \n",
       "\n",
       "                                          Image-URL-M  Totle_number_rating  \\\n",
       "0   http://images.amazon.com/images/P/0439136350.0...                  428   \n",
       "3   http://images.amazon.com/images/P/0439139597.0...                  387   \n",
       "5   http://images.amazon.com/images/P/0590353403.0...                  278   \n",
       "9   http://images.amazon.com/images/P/043935806X.0...                  347   \n",
       "13  http://images.amazon.com/images/P/0439064872.0...                  556   \n",
       "\n",
       "    Totle_avg_rating  \n",
       "0           5.852804  \n",
       "3           5.824289  \n",
       "5           5.737410  \n",
       "9           5.501441  \n",
       "13          5.183453  "
      ]
     },
     "execution_count": 25,
     "metadata": {},
     "output_type": "execute_result"
    }
   ],
   "source": [
    "# this all the top 50 Books\n",
    "popular_df.head()"
   ]
  },
  {
   "cell_type": "markdown",
   "metadata": {},
   "source": [
    "# Collaborative Filtering Based Recommender System\n",
    "\n",
    "## Approach to a problem statement\n",
    "\n",
    "We do not want to find a similarity between users or books. we want to do that If there is user A who has read and liked x and y books, And user B has also liked this two books and now user A has read and liked some z book which is not read by B so we have to recommend z book to user B. This is what collaborative filtering is.\n",
    "\n",
    "So this is achieved using Matrix Factorization, we will create one matrix where columns will be users and indexes will be books and value will be rating. Like we have to create a Pivot table.\n",
    "\n",
    "## A big flaw with a problem statement in the dataset\n",
    "\n",
    "If we take all the books and all the users for modeling, Don’t you think will it create a problem? So what we have to do is we have to decrease the number of users and books because we cannot consider a user who has only registered on the website or has only read one or two books. On such a user, we cannot rely to recommend books to others because we have to extract knowledge from data. So what we will limit this number and we will take a user who has rated at least 200 books and also we will limit books and we will take only those books which have received at least 50 ratings from a user."
   ]
  },
  {
   "cell_type": "markdown",
   "metadata": {},
   "source": [
    "pivot table\n",
    "\n",
    "  \n",
    "        user1   user2    user3   user4   user5   user6   user7  ...........user_n\n",
    "book1   \n",
    "\n",
    "book2\n",
    "\n",
    "book3\n",
    "\n",
    "book4\n",
    "\n",
    "book5                                 \n",
    "                                  ----------------------------------------------                 # Ratings #--------------------------------------\n",
    "\n",
    "\n",
    "book6\n",
    "\n",
    "\n",
    "book7\n",
    ".\n",
    ".\n",
    ".\n",
    ".\n",
    ".\n",
    ".\n",
    ".\n",
    "\n",
    "book_n "
   ]
  },
  {
   "cell_type": "markdown",
   "metadata": {},
   "source": [
    "\n",
    "\n",
    "So let’s get with analysis and prepare the dataset as we discussed for modeling. let us see how many users have given ratings and extract those users who have given more than 200 ratings."
   ]
  },
  {
   "cell_type": "markdown",
   "metadata": {},
   "source": [
    "### Step-1) Extract users and ratings of more than 200\n",
    "\n",
    "when you run the above code we can see only 105283 peoples have given a rating among 278000. Now we will extract the user ids who have given more than 200 ratings and when we will have user ids we will extract the ratings of only this user id from the rating dataframe."
   ]
  },
  {
   "cell_type": "code",
   "execution_count": 27,
   "metadata": {
    "execution": {
     "iopub.execute_input": "2023-09-20T20:06:10.28461Z",
     "iopub.status.busy": "2023-09-20T20:06:10.284231Z",
     "iopub.status.idle": "2023-09-20T20:06:10.318644Z",
     "shell.execute_reply": "2023-09-20T20:06:10.317577Z",
     "shell.execute_reply.started": "2023-09-20T20:06:10.284581Z"
    }
   },
   "outputs": [],
   "source": [
    "x = ratings['User-ID'].value_counts() > 200\n",
    "y = x[x].index"
   ]
  },
  {
   "cell_type": "code",
   "execution_count": 28,
   "metadata": {
    "execution": {
     "iopub.execute_input": "2023-09-20T20:06:10.320367Z",
     "iopub.status.busy": "2023-09-20T20:06:10.319807Z",
     "iopub.status.idle": "2023-09-20T20:06:10.330229Z",
     "shell.execute_reply": "2023-09-20T20:06:10.329092Z",
     "shell.execute_reply.started": "2023-09-20T20:06:10.320337Z"
    }
   },
   "outputs": [
    {
     "name": "stdout",
     "output_type": "stream",
     "text": [
      "(899,)\n"
     ]
    }
   ],
   "source": [
    "print(y.shape)"
   ]
  },
  {
   "cell_type": "markdown",
   "metadata": {},
   "source": [
    "Only 899 users have the more then 200 ratings"
   ]
  },
  {
   "cell_type": "code",
   "execution_count": 29,
   "metadata": {
    "execution": {
     "iopub.execute_input": "2023-09-20T20:06:10.332155Z",
     "iopub.status.busy": "2023-09-20T20:06:10.331704Z",
     "iopub.status.idle": "2023-09-20T20:06:10.384741Z",
     "shell.execute_reply": "2023-09-20T20:06:10.383699Z",
     "shell.execute_reply.started": "2023-09-20T20:06:10.332117Z"
    }
   },
   "outputs": [],
   "source": [
    "ratings = ratings[ratings['User-ID'].isin(y)]"
   ]
  },
  {
   "cell_type": "markdown",
   "metadata": {},
   "source": [
    "### step-2) Merge ratings with books\n",
    "\n",
    "So 900 users are there who have given 5.2 lakh rating and this we want. Now we will merge ratings with books on basis of ISBN so that we will get the rating of each user on each book id and the user who has not rated that book id the value will be zero."
   ]
  },
  {
   "cell_type": "code",
   "execution_count": 30,
   "metadata": {
    "execution": {
     "iopub.execute_input": "2023-09-20T20:06:10.38671Z",
     "iopub.status.busy": "2023-09-20T20:06:10.386308Z",
     "iopub.status.idle": "2023-09-20T20:06:10.886571Z",
     "shell.execute_reply": "2023-09-20T20:06:10.885471Z",
     "shell.execute_reply.started": "2023-09-20T20:06:10.386672Z"
    }
   },
   "outputs": [
    {
     "data": {
      "text/html": [
       "<div>\n",
       "<style scoped>\n",
       "    .dataframe tbody tr th:only-of-type {\n",
       "        vertical-align: middle;\n",
       "    }\n",
       "\n",
       "    .dataframe tbody tr th {\n",
       "        vertical-align: top;\n",
       "    }\n",
       "\n",
       "    .dataframe thead th {\n",
       "        text-align: right;\n",
       "    }\n",
       "</style>\n",
       "<table border=\"1\" class=\"dataframe\">\n",
       "  <thead>\n",
       "    <tr style=\"text-align: right;\">\n",
       "      <th></th>\n",
       "      <th>User-ID</th>\n",
       "      <th>ISBN</th>\n",
       "      <th>Book-Rating</th>\n",
       "      <th>Book-Title</th>\n",
       "      <th>Book-Author</th>\n",
       "      <th>Publisher</th>\n",
       "      <th>Image-URL-S</th>\n",
       "      <th>Image-URL-M</th>\n",
       "      <th>Image-URL-L</th>\n",
       "      <th>Publication_Date</th>\n",
       "      <th>Year-Of-Publication</th>\n",
       "    </tr>\n",
       "  </thead>\n",
       "  <tbody>\n",
       "    <tr>\n",
       "      <th>0</th>\n",
       "      <td>277427</td>\n",
       "      <td>002542730X</td>\n",
       "      <td>10</td>\n",
       "      <td>Politically Correct Bedtime Stories: Modern Ta...</td>\n",
       "      <td>James Finn Garner</td>\n",
       "      <td>John Wiley &amp;amp; Sons Inc</td>\n",
       "      <td>http://images.amazon.com/images/P/002542730X.0...</td>\n",
       "      <td>http://images.amazon.com/images/P/002542730X.0...</td>\n",
       "      <td>http://images.amazon.com/images/P/002542730X.0...</td>\n",
       "      <td>1994-01-01</td>\n",
       "      <td>1994.0</td>\n",
       "    </tr>\n",
       "    <tr>\n",
       "      <th>1</th>\n",
       "      <td>3363</td>\n",
       "      <td>002542730X</td>\n",
       "      <td>0</td>\n",
       "      <td>Politically Correct Bedtime Stories: Modern Ta...</td>\n",
       "      <td>James Finn Garner</td>\n",
       "      <td>John Wiley &amp;amp; Sons Inc</td>\n",
       "      <td>http://images.amazon.com/images/P/002542730X.0...</td>\n",
       "      <td>http://images.amazon.com/images/P/002542730X.0...</td>\n",
       "      <td>http://images.amazon.com/images/P/002542730X.0...</td>\n",
       "      <td>1994-01-01</td>\n",
       "      <td>1994.0</td>\n",
       "    </tr>\n",
       "  </tbody>\n",
       "</table>\n",
       "</div>"
      ],
      "text/plain": [
       "   User-ID        ISBN  Book-Rating  \\\n",
       "0   277427  002542730X           10   \n",
       "1     3363  002542730X            0   \n",
       "\n",
       "                                          Book-Title        Book-Author  \\\n",
       "0  Politically Correct Bedtime Stories: Modern Ta...  James Finn Garner   \n",
       "1  Politically Correct Bedtime Stories: Modern Ta...  James Finn Garner   \n",
       "\n",
       "                   Publisher  \\\n",
       "0  John Wiley &amp; Sons Inc   \n",
       "1  John Wiley &amp; Sons Inc   \n",
       "\n",
       "                                         Image-URL-S  \\\n",
       "0  http://images.amazon.com/images/P/002542730X.0...   \n",
       "1  http://images.amazon.com/images/P/002542730X.0...   \n",
       "\n",
       "                                         Image-URL-M  \\\n",
       "0  http://images.amazon.com/images/P/002542730X.0...   \n",
       "1  http://images.amazon.com/images/P/002542730X.0...   \n",
       "\n",
       "                                         Image-URL-L Publication_Date  \\\n",
       "0  http://images.amazon.com/images/P/002542730X.0...       1994-01-01   \n",
       "1  http://images.amazon.com/images/P/002542730X.0...       1994-01-01   \n",
       "\n",
       "   Year-Of-Publication  \n",
       "0               1994.0  \n",
       "1               1994.0  "
      ]
     },
     "execution_count": 30,
     "metadata": {},
     "output_type": "execute_result"
    }
   ],
   "source": [
    "rating_with_books = ratings.merge(books, on='ISBN')\n",
    "rating_with_books.head(2)"
   ]
  },
  {
   "cell_type": "markdown",
   "metadata": {},
   "source": [
    "### step-3) Extract books that have received more than 50 ratings.\n",
    "\n",
    "Now dataframe size has decreased and we have 4.8 lakh because when we merge the dataframe, all the book id-data we were not having. Now we will count the rating of each book so we will group data based on title and aggregate based on rating."
   ]
  },
  {
   "cell_type": "code",
   "execution_count": 31,
   "metadata": {
    "execution": {
     "iopub.execute_input": "2023-09-20T20:06:10.88831Z",
     "iopub.status.busy": "2023-09-20T20:06:10.887914Z",
     "iopub.status.idle": "2023-09-20T20:06:11.282429Z",
     "shell.execute_reply": "2023-09-20T20:06:11.281236Z",
     "shell.execute_reply.started": "2023-09-20T20:06:10.88828Z"
    }
   },
   "outputs": [
    {
     "data": {
      "text/html": [
       "<div>\n",
       "<style scoped>\n",
       "    .dataframe tbody tr th:only-of-type {\n",
       "        vertical-align: middle;\n",
       "    }\n",
       "\n",
       "    .dataframe tbody tr th {\n",
       "        vertical-align: top;\n",
       "    }\n",
       "\n",
       "    .dataframe thead th {\n",
       "        text-align: right;\n",
       "    }\n",
       "</style>\n",
       "<table border=\"1\" class=\"dataframe\">\n",
       "  <thead>\n",
       "    <tr style=\"text-align: right;\">\n",
       "      <th></th>\n",
       "      <th>Book-Title</th>\n",
       "      <th>number_of_ratings</th>\n",
       "    </tr>\n",
       "  </thead>\n",
       "  <tbody>\n",
       "    <tr>\n",
       "      <th>0</th>\n",
       "      <td>A Light in the Storm: The Civil War Diary of ...</td>\n",
       "      <td>2</td>\n",
       "    </tr>\n",
       "    <tr>\n",
       "      <th>1</th>\n",
       "      <td>Always Have Popsicles</td>\n",
       "      <td>1</td>\n",
       "    </tr>\n",
       "    <tr>\n",
       "      <th>2</th>\n",
       "      <td>Apple Magic (The Collector's series)</td>\n",
       "      <td>1</td>\n",
       "    </tr>\n",
       "    <tr>\n",
       "      <th>3</th>\n",
       "      <td>Beyond IBM: Leadership Marketing and Finance ...</td>\n",
       "      <td>1</td>\n",
       "    </tr>\n",
       "    <tr>\n",
       "      <th>4</th>\n",
       "      <td>Clifford Visita El Hospital (Clifford El Gran...</td>\n",
       "      <td>1</td>\n",
       "    </tr>\n",
       "  </tbody>\n",
       "</table>\n",
       "</div>"
      ],
      "text/plain": [
       "                                          Book-Title  number_of_ratings\n",
       "0   A Light in the Storm: The Civil War Diary of ...                  2\n",
       "1                              Always Have Popsicles                  1\n",
       "2               Apple Magic (The Collector's series)                  1\n",
       "3   Beyond IBM: Leadership Marketing and Finance ...                  1\n",
       "4   Clifford Visita El Hospital (Clifford El Gran...                  1"
      ]
     },
     "execution_count": 31,
     "metadata": {},
     "output_type": "execute_result"
    }
   ],
   "source": [
    "number_rating = rating_with_books.groupby('Book-Title')['Book-Rating'].count().reset_index()\n",
    "number_rating.rename(columns= {'Book-Rating':'number_of_ratings'}, inplace=True)\n",
    "number_rating.head()"
   ]
  },
  {
   "cell_type": "code",
   "execution_count": 32,
   "metadata": {
    "execution": {
     "iopub.execute_input": "2023-09-20T20:06:11.284251Z",
     "iopub.status.busy": "2023-09-20T20:06:11.283915Z",
     "iopub.status.idle": "2023-09-20T20:06:11.586592Z",
     "shell.execute_reply": "2023-09-20T20:06:11.585664Z",
     "shell.execute_reply.started": "2023-09-20T20:06:11.284222Z"
    }
   },
   "outputs": [],
   "source": [
    "final_rating = rating_with_books.merge(number_rating, on='Book-Title')\n"
   ]
  },
  {
   "cell_type": "code",
   "execution_count": 33,
   "metadata": {
    "execution": {
     "iopub.execute_input": "2023-09-20T20:06:11.588925Z",
     "iopub.status.busy": "2023-09-20T20:06:11.58787Z",
     "iopub.status.idle": "2023-09-20T20:06:11.652202Z",
     "shell.execute_reply": "2023-09-20T20:06:11.651235Z",
     "shell.execute_reply.started": "2023-09-20T20:06:11.588884Z"
    }
   },
   "outputs": [],
   "source": [
    "final_rating = final_rating[final_rating['number_of_ratings'] >= 50]\n",
    "final_rating.drop_duplicates(['User-ID','Book-Title'], inplace=True)"
   ]
  },
  {
   "cell_type": "markdown",
   "metadata": {},
   "source": [
    "we have to drop duplicate values because if the same user has rated the same book multiple times so it will create a problem. Finally, we have a dataset with that user who has rated more than 200 books and books that received more than 50 ratings. the shape of the final dataframe is 59850 rows and 8 columns."
   ]
  },
  {
   "cell_type": "markdown",
   "metadata": {},
   "source": [
    "### Step-4) Create Pivot Table\n",
    "As we discussed above we will create a pivot table where columns will be user ids, the index will be book title and the value is ratings. And the user id who has not rated any book will have value as NAN so impute it with zero.\n",
    "\n"
   ]
  },
  {
   "cell_type": "code",
   "execution_count": 34,
   "metadata": {
    "execution": {
     "iopub.execute_input": "2023-09-20T20:06:11.656343Z",
     "iopub.status.busy": "2023-09-20T20:06:11.655736Z",
     "iopub.status.idle": "2023-09-20T20:06:11.710812Z",
     "shell.execute_reply": "2023-09-20T20:06:11.70968Z",
     "shell.execute_reply.started": "2023-09-20T20:06:11.656311Z"
    }
   },
   "outputs": [],
   "source": [
    "book_pivot = final_rating.pivot_table(columns='User-ID', index='Book-Title', values=\"Book-Rating\")\n",
    "book_pivot.fillna(0, inplace=True)"
   ]
  },
  {
   "cell_type": "code",
   "execution_count": 35,
   "metadata": {
    "execution": {
     "iopub.execute_input": "2023-09-20T20:06:11.712695Z",
     "iopub.status.busy": "2023-09-20T20:06:11.712368Z",
     "iopub.status.idle": "2023-09-20T20:06:11.752901Z",
     "shell.execute_reply": "2023-09-20T20:06:11.751896Z",
     "shell.execute_reply.started": "2023-09-20T20:06:11.712667Z"
    }
   },
   "outputs": [
    {
     "data": {
      "text/html": [
       "<div>\n",
       "<style scoped>\n",
       "    .dataframe tbody tr th:only-of-type {\n",
       "        vertical-align: middle;\n",
       "    }\n",
       "\n",
       "    .dataframe tbody tr th {\n",
       "        vertical-align: top;\n",
       "    }\n",
       "\n",
       "    .dataframe thead th {\n",
       "        text-align: right;\n",
       "    }\n",
       "</style>\n",
       "<table border=\"1\" class=\"dataframe\">\n",
       "  <thead>\n",
       "    <tr style=\"text-align: right;\">\n",
       "      <th>User-ID</th>\n",
       "      <th>254</th>\n",
       "      <th>2276</th>\n",
       "      <th>2766</th>\n",
       "      <th>2977</th>\n",
       "      <th>3363</th>\n",
       "      <th>3757</th>\n",
       "      <th>4017</th>\n",
       "      <th>4385</th>\n",
       "      <th>6242</th>\n",
       "      <th>6251</th>\n",
       "      <th>...</th>\n",
       "      <th>274004</th>\n",
       "      <th>274061</th>\n",
       "      <th>274301</th>\n",
       "      <th>274308</th>\n",
       "      <th>274808</th>\n",
       "      <th>275970</th>\n",
       "      <th>277427</th>\n",
       "      <th>277478</th>\n",
       "      <th>277639</th>\n",
       "      <th>278418</th>\n",
       "    </tr>\n",
       "    <tr>\n",
       "      <th>Book-Title</th>\n",
       "      <th></th>\n",
       "      <th></th>\n",
       "      <th></th>\n",
       "      <th></th>\n",
       "      <th></th>\n",
       "      <th></th>\n",
       "      <th></th>\n",
       "      <th></th>\n",
       "      <th></th>\n",
       "      <th></th>\n",
       "      <th></th>\n",
       "      <th></th>\n",
       "      <th></th>\n",
       "      <th></th>\n",
       "      <th></th>\n",
       "      <th></th>\n",
       "      <th></th>\n",
       "      <th></th>\n",
       "      <th></th>\n",
       "      <th></th>\n",
       "      <th></th>\n",
       "    </tr>\n",
       "  </thead>\n",
       "  <tbody>\n",
       "    <tr>\n",
       "      <th>1984</th>\n",
       "      <td>9.0</td>\n",
       "      <td>0.0</td>\n",
       "      <td>0.0</td>\n",
       "      <td>0.0</td>\n",
       "      <td>0.0</td>\n",
       "      <td>0.0</td>\n",
       "      <td>0.0</td>\n",
       "      <td>0.0</td>\n",
       "      <td>0.0</td>\n",
       "      <td>0.0</td>\n",
       "      <td>...</td>\n",
       "      <td>0.0</td>\n",
       "      <td>0.0</td>\n",
       "      <td>0.0</td>\n",
       "      <td>0.0</td>\n",
       "      <td>0.0</td>\n",
       "      <td>0.0</td>\n",
       "      <td>0.0</td>\n",
       "      <td>0.0</td>\n",
       "      <td>0.0</td>\n",
       "      <td>0.0</td>\n",
       "    </tr>\n",
       "    <tr>\n",
       "      <th>1st to Die: A Novel</th>\n",
       "      <td>0.0</td>\n",
       "      <td>0.0</td>\n",
       "      <td>0.0</td>\n",
       "      <td>0.0</td>\n",
       "      <td>0.0</td>\n",
       "      <td>0.0</td>\n",
       "      <td>0.0</td>\n",
       "      <td>0.0</td>\n",
       "      <td>0.0</td>\n",
       "      <td>0.0</td>\n",
       "      <td>...</td>\n",
       "      <td>0.0</td>\n",
       "      <td>0.0</td>\n",
       "      <td>0.0</td>\n",
       "      <td>0.0</td>\n",
       "      <td>0.0</td>\n",
       "      <td>0.0</td>\n",
       "      <td>0.0</td>\n",
       "      <td>0.0</td>\n",
       "      <td>0.0</td>\n",
       "      <td>0.0</td>\n",
       "    </tr>\n",
       "    <tr>\n",
       "      <th>2nd Chance</th>\n",
       "      <td>0.0</td>\n",
       "      <td>10.0</td>\n",
       "      <td>0.0</td>\n",
       "      <td>0.0</td>\n",
       "      <td>0.0</td>\n",
       "      <td>0.0</td>\n",
       "      <td>0.0</td>\n",
       "      <td>0.0</td>\n",
       "      <td>0.0</td>\n",
       "      <td>0.0</td>\n",
       "      <td>...</td>\n",
       "      <td>0.0</td>\n",
       "      <td>0.0</td>\n",
       "      <td>0.0</td>\n",
       "      <td>0.0</td>\n",
       "      <td>0.0</td>\n",
       "      <td>0.0</td>\n",
       "      <td>0.0</td>\n",
       "      <td>0.0</td>\n",
       "      <td>0.0</td>\n",
       "      <td>0.0</td>\n",
       "    </tr>\n",
       "    <tr>\n",
       "      <th>4 Blondes</th>\n",
       "      <td>0.0</td>\n",
       "      <td>0.0</td>\n",
       "      <td>0.0</td>\n",
       "      <td>0.0</td>\n",
       "      <td>0.0</td>\n",
       "      <td>0.0</td>\n",
       "      <td>0.0</td>\n",
       "      <td>0.0</td>\n",
       "      <td>0.0</td>\n",
       "      <td>0.0</td>\n",
       "      <td>...</td>\n",
       "      <td>0.0</td>\n",
       "      <td>0.0</td>\n",
       "      <td>0.0</td>\n",
       "      <td>0.0</td>\n",
       "      <td>0.0</td>\n",
       "      <td>0.0</td>\n",
       "      <td>0.0</td>\n",
       "      <td>0.0</td>\n",
       "      <td>0.0</td>\n",
       "      <td>0.0</td>\n",
       "    </tr>\n",
       "    <tr>\n",
       "      <th>84 Charing Cross Road</th>\n",
       "      <td>0.0</td>\n",
       "      <td>0.0</td>\n",
       "      <td>0.0</td>\n",
       "      <td>0.0</td>\n",
       "      <td>0.0</td>\n",
       "      <td>0.0</td>\n",
       "      <td>0.0</td>\n",
       "      <td>0.0</td>\n",
       "      <td>0.0</td>\n",
       "      <td>0.0</td>\n",
       "      <td>...</td>\n",
       "      <td>0.0</td>\n",
       "      <td>0.0</td>\n",
       "      <td>0.0</td>\n",
       "      <td>0.0</td>\n",
       "      <td>0.0</td>\n",
       "      <td>10.0</td>\n",
       "      <td>0.0</td>\n",
       "      <td>0.0</td>\n",
       "      <td>0.0</td>\n",
       "      <td>0.0</td>\n",
       "    </tr>\n",
       "    <tr>\n",
       "      <th>...</th>\n",
       "      <td>...</td>\n",
       "      <td>...</td>\n",
       "      <td>...</td>\n",
       "      <td>...</td>\n",
       "      <td>...</td>\n",
       "      <td>...</td>\n",
       "      <td>...</td>\n",
       "      <td>...</td>\n",
       "      <td>...</td>\n",
       "      <td>...</td>\n",
       "      <td>...</td>\n",
       "      <td>...</td>\n",
       "      <td>...</td>\n",
       "      <td>...</td>\n",
       "      <td>...</td>\n",
       "      <td>...</td>\n",
       "      <td>...</td>\n",
       "      <td>...</td>\n",
       "      <td>...</td>\n",
       "      <td>...</td>\n",
       "      <td>...</td>\n",
       "    </tr>\n",
       "    <tr>\n",
       "      <th>Year of Wonders</th>\n",
       "      <td>0.0</td>\n",
       "      <td>0.0</td>\n",
       "      <td>0.0</td>\n",
       "      <td>7.0</td>\n",
       "      <td>0.0</td>\n",
       "      <td>0.0</td>\n",
       "      <td>0.0</td>\n",
       "      <td>0.0</td>\n",
       "      <td>7.0</td>\n",
       "      <td>0.0</td>\n",
       "      <td>...</td>\n",
       "      <td>0.0</td>\n",
       "      <td>0.0</td>\n",
       "      <td>0.0</td>\n",
       "      <td>0.0</td>\n",
       "      <td>0.0</td>\n",
       "      <td>0.0</td>\n",
       "      <td>0.0</td>\n",
       "      <td>0.0</td>\n",
       "      <td>0.0</td>\n",
       "      <td>0.0</td>\n",
       "    </tr>\n",
       "    <tr>\n",
       "      <th>You Belong To Me</th>\n",
       "      <td>0.0</td>\n",
       "      <td>0.0</td>\n",
       "      <td>0.0</td>\n",
       "      <td>0.0</td>\n",
       "      <td>0.0</td>\n",
       "      <td>0.0</td>\n",
       "      <td>0.0</td>\n",
       "      <td>0.0</td>\n",
       "      <td>0.0</td>\n",
       "      <td>0.0</td>\n",
       "      <td>...</td>\n",
       "      <td>0.0</td>\n",
       "      <td>0.0</td>\n",
       "      <td>0.0</td>\n",
       "      <td>0.0</td>\n",
       "      <td>0.0</td>\n",
       "      <td>0.0</td>\n",
       "      <td>0.0</td>\n",
       "      <td>0.0</td>\n",
       "      <td>0.0</td>\n",
       "      <td>0.0</td>\n",
       "    </tr>\n",
       "    <tr>\n",
       "      <th>Zen and the Art of Motorcycle Maintenance: An Inquiry into Values</th>\n",
       "      <td>0.0</td>\n",
       "      <td>0.0</td>\n",
       "      <td>0.0</td>\n",
       "      <td>0.0</td>\n",
       "      <td>0.0</td>\n",
       "      <td>0.0</td>\n",
       "      <td>0.0</td>\n",
       "      <td>0.0</td>\n",
       "      <td>0.0</td>\n",
       "      <td>0.0</td>\n",
       "      <td>...</td>\n",
       "      <td>0.0</td>\n",
       "      <td>0.0</td>\n",
       "      <td>0.0</td>\n",
       "      <td>0.0</td>\n",
       "      <td>0.0</td>\n",
       "      <td>0.0</td>\n",
       "      <td>0.0</td>\n",
       "      <td>0.0</td>\n",
       "      <td>0.0</td>\n",
       "      <td>0.0</td>\n",
       "    </tr>\n",
       "    <tr>\n",
       "      <th>Zoya</th>\n",
       "      <td>0.0</td>\n",
       "      <td>0.0</td>\n",
       "      <td>0.0</td>\n",
       "      <td>0.0</td>\n",
       "      <td>0.0</td>\n",
       "      <td>0.0</td>\n",
       "      <td>0.0</td>\n",
       "      <td>0.0</td>\n",
       "      <td>0.0</td>\n",
       "      <td>0.0</td>\n",
       "      <td>...</td>\n",
       "      <td>0.0</td>\n",
       "      <td>0.0</td>\n",
       "      <td>0.0</td>\n",
       "      <td>0.0</td>\n",
       "      <td>0.0</td>\n",
       "      <td>0.0</td>\n",
       "      <td>0.0</td>\n",
       "      <td>0.0</td>\n",
       "      <td>0.0</td>\n",
       "      <td>0.0</td>\n",
       "    </tr>\n",
       "    <tr>\n",
       "      <th>\\O\\\" Is for Outlaw\"</th>\n",
       "      <td>0.0</td>\n",
       "      <td>0.0</td>\n",
       "      <td>0.0</td>\n",
       "      <td>0.0</td>\n",
       "      <td>0.0</td>\n",
       "      <td>0.0</td>\n",
       "      <td>0.0</td>\n",
       "      <td>0.0</td>\n",
       "      <td>0.0</td>\n",
       "      <td>0.0</td>\n",
       "      <td>...</td>\n",
       "      <td>0.0</td>\n",
       "      <td>0.0</td>\n",
       "      <td>8.0</td>\n",
       "      <td>0.0</td>\n",
       "      <td>0.0</td>\n",
       "      <td>0.0</td>\n",
       "      <td>0.0</td>\n",
       "      <td>0.0</td>\n",
       "      <td>0.0</td>\n",
       "      <td>0.0</td>\n",
       "    </tr>\n",
       "  </tbody>\n",
       "</table>\n",
       "<p>742 rows × 888 columns</p>\n",
       "</div>"
      ],
      "text/plain": [
       "User-ID                                             254     2276    2766    \\\n",
       "Book-Title                                                                   \n",
       "1984                                                   9.0     0.0     0.0   \n",
       "1st to Die: A Novel                                    0.0     0.0     0.0   \n",
       "2nd Chance                                             0.0    10.0     0.0   \n",
       "4 Blondes                                              0.0     0.0     0.0   \n",
       "84 Charing Cross Road                                  0.0     0.0     0.0   \n",
       "...                                                    ...     ...     ...   \n",
       "Year of Wonders                                        0.0     0.0     0.0   \n",
       "You Belong To Me                                       0.0     0.0     0.0   \n",
       "Zen and the Art of Motorcycle Maintenance: An I...     0.0     0.0     0.0   \n",
       "Zoya                                                   0.0     0.0     0.0   \n",
       "\\O\\\" Is for Outlaw\"                                    0.0     0.0     0.0   \n",
       "\n",
       "User-ID                                             2977    3363    3757    \\\n",
       "Book-Title                                                                   \n",
       "1984                                                   0.0     0.0     0.0   \n",
       "1st to Die: A Novel                                    0.0     0.0     0.0   \n",
       "2nd Chance                                             0.0     0.0     0.0   \n",
       "4 Blondes                                              0.0     0.0     0.0   \n",
       "84 Charing Cross Road                                  0.0     0.0     0.0   \n",
       "...                                                    ...     ...     ...   \n",
       "Year of Wonders                                        7.0     0.0     0.0   \n",
       "You Belong To Me                                       0.0     0.0     0.0   \n",
       "Zen and the Art of Motorcycle Maintenance: An I...     0.0     0.0     0.0   \n",
       "Zoya                                                   0.0     0.0     0.0   \n",
       "\\O\\\" Is for Outlaw\"                                    0.0     0.0     0.0   \n",
       "\n",
       "User-ID                                             4017    4385    6242    \\\n",
       "Book-Title                                                                   \n",
       "1984                                                   0.0     0.0     0.0   \n",
       "1st to Die: A Novel                                    0.0     0.0     0.0   \n",
       "2nd Chance                                             0.0     0.0     0.0   \n",
       "4 Blondes                                              0.0     0.0     0.0   \n",
       "84 Charing Cross Road                                  0.0     0.0     0.0   \n",
       "...                                                    ...     ...     ...   \n",
       "Year of Wonders                                        0.0     0.0     7.0   \n",
       "You Belong To Me                                       0.0     0.0     0.0   \n",
       "Zen and the Art of Motorcycle Maintenance: An I...     0.0     0.0     0.0   \n",
       "Zoya                                                   0.0     0.0     0.0   \n",
       "\\O\\\" Is for Outlaw\"                                    0.0     0.0     0.0   \n",
       "\n",
       "User-ID                                             6251    ...  274004  \\\n",
       "Book-Title                                                  ...           \n",
       "1984                                                   0.0  ...     0.0   \n",
       "1st to Die: A Novel                                    0.0  ...     0.0   \n",
       "2nd Chance                                             0.0  ...     0.0   \n",
       "4 Blondes                                              0.0  ...     0.0   \n",
       "84 Charing Cross Road                                  0.0  ...     0.0   \n",
       "...                                                    ...  ...     ...   \n",
       "Year of Wonders                                        0.0  ...     0.0   \n",
       "You Belong To Me                                       0.0  ...     0.0   \n",
       "Zen and the Art of Motorcycle Maintenance: An I...     0.0  ...     0.0   \n",
       "Zoya                                                   0.0  ...     0.0   \n",
       "\\O\\\" Is for Outlaw\"                                    0.0  ...     0.0   \n",
       "\n",
       "User-ID                                             274061  274301  274308  \\\n",
       "Book-Title                                                                   \n",
       "1984                                                   0.0     0.0     0.0   \n",
       "1st to Die: A Novel                                    0.0     0.0     0.0   \n",
       "2nd Chance                                             0.0     0.0     0.0   \n",
       "4 Blondes                                              0.0     0.0     0.0   \n",
       "84 Charing Cross Road                                  0.0     0.0     0.0   \n",
       "...                                                    ...     ...     ...   \n",
       "Year of Wonders                                        0.0     0.0     0.0   \n",
       "You Belong To Me                                       0.0     0.0     0.0   \n",
       "Zen and the Art of Motorcycle Maintenance: An I...     0.0     0.0     0.0   \n",
       "Zoya                                                   0.0     0.0     0.0   \n",
       "\\O\\\" Is for Outlaw\"                                    0.0     8.0     0.0   \n",
       "\n",
       "User-ID                                             274808  275970  277427  \\\n",
       "Book-Title                                                                   \n",
       "1984                                                   0.0     0.0     0.0   \n",
       "1st to Die: A Novel                                    0.0     0.0     0.0   \n",
       "2nd Chance                                             0.0     0.0     0.0   \n",
       "4 Blondes                                              0.0     0.0     0.0   \n",
       "84 Charing Cross Road                                  0.0    10.0     0.0   \n",
       "...                                                    ...     ...     ...   \n",
       "Year of Wonders                                        0.0     0.0     0.0   \n",
       "You Belong To Me                                       0.0     0.0     0.0   \n",
       "Zen and the Art of Motorcycle Maintenance: An I...     0.0     0.0     0.0   \n",
       "Zoya                                                   0.0     0.0     0.0   \n",
       "\\O\\\" Is for Outlaw\"                                    0.0     0.0     0.0   \n",
       "\n",
       "User-ID                                             277478  277639  278418  \n",
       "Book-Title                                                                  \n",
       "1984                                                   0.0     0.0     0.0  \n",
       "1st to Die: A Novel                                    0.0     0.0     0.0  \n",
       "2nd Chance                                             0.0     0.0     0.0  \n",
       "4 Blondes                                              0.0     0.0     0.0  \n",
       "84 Charing Cross Road                                  0.0     0.0     0.0  \n",
       "...                                                    ...     ...     ...  \n",
       "Year of Wonders                                        0.0     0.0     0.0  \n",
       "You Belong To Me                                       0.0     0.0     0.0  \n",
       "Zen and the Art of Motorcycle Maintenance: An I...     0.0     0.0     0.0  \n",
       "Zoya                                                   0.0     0.0     0.0  \n",
       "\\O\\\" Is for Outlaw\"                                    0.0     0.0     0.0  \n",
       "\n",
       "[742 rows x 888 columns]"
      ]
     },
     "execution_count": 35,
     "metadata": {},
     "output_type": "execute_result"
    }
   ],
   "source": [
    "book_pivot"
   ]
  },
  {
   "cell_type": "code",
   "execution_count": null,
   "metadata": {},
   "outputs": [],
   "source": []
  },
  {
   "cell_type": "markdown",
   "metadata": {},
   "source": [
    "742 Totle Books and 888 Users"
   ]
  },
  {
   "cell_type": "markdown",
   "metadata": {},
   "source": [
    "We can see the more than 11 users have removed out because their ratings were on those books which do not receive more than 50 ratings so they are moved out of the picture"
   ]
  },
  {
   "cell_type": "markdown",
   "metadata": {},
   "source": [
    "### Modeling\n",
    "\n",
    "Now every book has became a vector in 888 dimensional space and we have to find similar vectors. so, now we will calculate the euclidian distance of each vector with other vectors and on the basis of that distance we will get to know which book is simila.\n",
    "\n",
    "using  **cosine_similarity Distance**  to find the all recommended Books"
   ]
  },
  {
   "cell_type": "code",
   "execution_count": 39,
   "metadata": {
    "execution": {
     "iopub.execute_input": "2023-09-20T20:06:11.75476Z",
     "iopub.status.busy": "2023-09-20T20:06:11.754451Z",
     "iopub.status.idle": "2023-09-20T20:06:11.775806Z",
     "shell.execute_reply": "2023-09-20T20:06:11.774409Z",
     "shell.execute_reply.started": "2023-09-20T20:06:11.754735Z"
    }
   },
   "outputs": [],
   "source": [
    "from sklearn.metrics.pairwise import cosine_similarity\n",
    "\n",
    "similarity_scores = cosine_similarity(book_pivot)"
   ]
  },
  {
   "cell_type": "code",
   "execution_count": 40,
   "metadata": {
    "execution": {
     "iopub.execute_input": "2023-09-20T20:06:11.778198Z",
     "iopub.status.busy": "2023-09-20T20:06:11.777741Z",
     "iopub.status.idle": "2023-09-20T20:06:11.787342Z",
     "shell.execute_reply": "2023-09-20T20:06:11.786058Z",
     "shell.execute_reply.started": "2023-09-20T20:06:11.778158Z"
    }
   },
   "outputs": [
    {
     "data": {
      "text/plain": [
       "array([[1.        , 0.07624004, 0.        , ..., 0.09387814, 0.04480685,\n",
       "        0.03286937],\n",
       "       [0.07624004, 1.        , 0.27421749, ..., 0.07424784, 0.16365457,\n",
       "        0.15050832],\n",
       "       [0.        , 0.27421749, 1.        , ..., 0.04732923, 0.05195619,\n",
       "        0.11178963],\n",
       "       ...,\n",
       "       [0.09387814, 0.07424784, 0.04732923, ..., 1.        , 0.07085128,\n",
       "        0.03898126],\n",
       "       [0.04480685, 0.16365457, 0.05195619, ..., 0.07085128, 1.        ,\n",
       "        0.13208788],\n",
       "       [0.03286937, 0.15050832, 0.11178963, ..., 0.03898126, 0.13208788,\n",
       "        1.        ]])"
      ]
     },
     "execution_count": 40,
     "metadata": {},
     "output_type": "execute_result"
    }
   ],
   "source": [
    "similarity_scores"
   ]
  },
  {
   "cell_type": "code",
   "execution_count": 41,
   "metadata": {
    "execution": {
     "iopub.execute_input": "2023-09-20T20:06:11.789791Z",
     "iopub.status.busy": "2023-09-20T20:06:11.789357Z",
     "iopub.status.idle": "2023-09-20T20:06:11.801117Z",
     "shell.execute_reply": "2023-09-20T20:06:11.800055Z",
     "shell.execute_reply.started": "2023-09-20T20:06:11.789754Z"
    }
   },
   "outputs": [
    {
     "data": {
      "text/plain": [
       "(742, 742)"
      ]
     },
     "execution_count": 41,
     "metadata": {},
     "output_type": "execute_result"
    }
   ],
   "source": [
    "similarity_scores.shape"
   ]
  },
  {
   "cell_type": "markdown",
   "metadata": {},
   "source": [
    "(742,742) means the each books distance very movies\n",
    "\n"
   ]
  },
  {
   "cell_type": "code",
   "execution_count": 42,
   "metadata": {
    "execution": {
     "iopub.execute_input": "2023-09-20T20:06:11.803599Z",
     "iopub.status.busy": "2023-09-20T20:06:11.802866Z",
     "iopub.status.idle": "2023-09-20T20:06:11.824549Z",
     "shell.execute_reply": "2023-09-20T20:06:11.823441Z",
     "shell.execute_reply.started": "2023-09-20T20:06:11.80356Z"
    }
   },
   "outputs": [
    {
     "data": {
      "text/plain": [
       "array([1.        , 0.07624004, 0.        , 0.        , 0.07311041,\n",
       "       0.03592254, 0.        , 0.0720444 , 0.09844858, 0.        ,\n",
       "       0.        , 0.        , 0.06357987, 0.        , 0.06052731,\n",
       "       0.0184244 , 0.0631735 , 0.09360361, 0.04554309, 0.08528621,\n",
       "       0.02292759, 0.        , 0.08992788, 0.        , 0.12558027,\n",
       "       0.07016405, 0.05554746, 0.06322522, 0.        , 0.04925827,\n",
       "       0.10706361, 0.0571246 , 0.10238571, 0.06000764, 0.05101252,\n",
       "       0.        , 0.        , 0.06576001, 0.03915011, 0.        ,\n",
       "       0.        , 0.09079097, 0.07599253, 0.        , 0.        ,\n",
       "       0.05612309, 0.10585073, 0.        , 0.03106666, 0.07276544,\n",
       "       0.06663565, 0.07310003, 0.02892988, 0.04970874, 0.26347625,\n",
       "       0.10084817, 0.08304715, 0.10808221, 0.10651024, 0.06877653,\n",
       "       0.03882237, 0.        , 0.        , 0.03512102, 0.        ,\n",
       "       0.05326136, 0.0338294 , 0.17941454, 0.        , 0.        ,\n",
       "       0.        , 0.03714664, 0.09521457, 0.12490485, 0.        ,\n",
       "       0.0601216 , 0.1087482 , 0.05301618, 0.        , 0.        ,\n",
       "       0.        , 0.0918807 , 0.        , 0.02493672, 0.        ,\n",
       "       0.04709643, 0.06066282, 0.07845793, 0.01893865, 0.        ,\n",
       "       0.20101319, 0.        , 0.08795545, 0.05414106, 0.10977691,\n",
       "       0.10733944, 0.08845698, 0.        , 0.03861471, 0.        ,\n",
       "       0.11063656, 0.02973   , 0.        , 0.01408321, 0.        ,\n",
       "       0.        , 0.        , 0.        , 0.        , 0.10978659,\n",
       "       0.0302509 , 0.03467629, 0.04387428, 0.        , 0.02468674,\n",
       "       0.04675069, 0.        , 0.04240667, 0.        , 0.        ,\n",
       "       0.0667257 , 0.        , 0.        , 0.        , 0.        ,\n",
       "       0.08502968, 0.13332055, 0.14059986, 0.0479505 , 0.06551313,\n",
       "       0.03760528, 0.05525188, 0.03418307, 0.03797542, 0.        ,\n",
       "       0.02753145, 0.04203135, 0.        , 0.        , 0.06578473,\n",
       "       0.        , 0.        , 0.        , 0.04092995, 0.02780238,\n",
       "       0.0698938 , 0.        , 0.        , 0.        , 0.        ,\n",
       "       0.        , 0.        , 0.        , 0.        , 0.02557597,\n",
       "       0.        , 0.10023593, 0.        , 0.12021332, 0.02509556,\n",
       "       0.08331481, 0.07930206, 0.11669494, 0.04460815, 0.07955964,\n",
       "       0.        , 0.        , 0.05772919, 0.        , 0.04092572,\n",
       "       0.        , 0.        , 0.01261932, 0.04407507, 0.        ,\n",
       "       0.        , 0.        , 0.        , 0.1192868 , 0.04025665,\n",
       "       0.        , 0.        , 0.        , 0.12871461, 0.        ,\n",
       "       0.        , 0.04636598, 0.        , 0.02584362, 0.        ,\n",
       "       0.        , 0.19096702, 0.        , 0.076974  , 0.        ,\n",
       "       0.        , 0.04894097, 0.07325754, 0.        , 0.        ,\n",
       "       0.05432716, 0.03637863, 0.11446641, 0.        , 0.05992107,\n",
       "       0.07973608, 0.04343553, 0.1050955 , 0.07014633, 0.        ,\n",
       "       0.        , 0.        , 0.14075427, 0.0316531 , 0.03946116,\n",
       "       0.08845136, 0.10927253, 0.03719862, 0.04077414, 0.03130193,\n",
       "       0.        , 0.07184248, 0.05083502, 0.03970387, 0.12731215,\n",
       "       0.07436639, 0.10921393, 0.06267547, 0.06300806, 0.10442049,\n",
       "       0.        , 0.        , 0.        , 0.        , 0.03263678,\n",
       "       0.12707258, 0.02426967, 0.05773373, 0.09147896, 0.0490838 ,\n",
       "       0.10758609, 0.05524073, 0.04869325, 0.        , 0.        ,\n",
       "       0.        , 0.        , 0.        , 0.07838213, 0.        ,\n",
       "       0.        , 0.04270318, 0.        , 0.1123788 , 0.06671318,\n",
       "       0.05385364, 0.        , 0.        , 0.        , 0.07540021,\n",
       "       0.0635797 , 0.11626378, 0.        , 0.12340819, 0.05689951,\n",
       "       0.12084909, 0.04344713, 0.        , 0.        , 0.02843648,\n",
       "       0.        , 0.08783635, 0.12767848, 0.        , 0.04993731,\n",
       "       0.        , 0.        , 0.        , 0.06214393, 0.03818044,\n",
       "       0.15384238, 0.06788254, 0.06158348, 0.        , 0.        ,\n",
       "       0.        , 0.10558671, 0.05052458, 0.04407507, 0.        ,\n",
       "       0.        , 0.        , 0.0786086 , 0.        , 0.        ,\n",
       "       0.        , 0.        , 0.10190703, 0.        , 0.        ,\n",
       "       0.0446301 , 0.        , 0.03616988, 0.06570484, 0.11326774,\n",
       "       0.        , 0.        , 0.05467015, 0.        , 0.03168877,\n",
       "       0.        , 0.        , 0.04718701, 0.05202548, 0.12112424,\n",
       "       0.08936722, 0.        , 0.09872717, 0.04358505, 0.08799256,\n",
       "       0.        , 0.21653715, 0.04795494, 0.        , 0.09386629,\n",
       "       0.09564506, 0.        , 0.        , 0.        , 0.08112275,\n",
       "       0.03611739, 0.1583534 , 0.        , 0.        , 0.        ,\n",
       "       0.05529552, 0.11830063, 0.07489238, 0.        , 0.0903945 ,\n",
       "       0.0913363 , 0.02332248, 0.        , 0.05540509, 0.09932609,\n",
       "       0.        , 0.        , 0.        , 0.14349236, 0.        ,\n",
       "       0.        , 0.        , 0.        , 0.        , 0.        ,\n",
       "       0.        , 0.        , 0.        , 0.19607165, 0.        ,\n",
       "       0.03536819, 0.06309662, 0.0661529 , 0.09880202, 0.03911556,\n",
       "       0.03844949, 0.        , 0.        , 0.04780916, 0.14803602,\n",
       "       0.04990889, 0.        , 0.1322708 , 0.03453151, 0.        ,\n",
       "       0.04331581, 0.        , 0.10004827, 0.0712298 , 0.07249791,\n",
       "       0.06650669, 0.13221441, 0.        , 0.        , 0.04980003,\n",
       "       0.        , 0.05215888, 0.        , 0.07906619, 0.10220294,\n",
       "       0.        , 0.04483889, 0.07942045, 0.        , 0.        ,\n",
       "       0.        , 0.07814957, 0.        , 0.        , 0.        ,\n",
       "       0.08945731, 0.05157536, 0.12426021, 0.        , 0.05000351,\n",
       "       0.        , 0.        , 0.0400229 , 0.0427999 , 0.        ,\n",
       "       0.        , 0.        , 0.        , 0.06545707, 0.        ,\n",
       "       0.13166489, 0.05261459, 0.        , 0.06514102, 0.        ,\n",
       "       0.09185203, 0.        , 0.        , 0.        , 0.04274943,\n",
       "       0.14537461, 0.        , 0.10754308, 0.10556893, 0.        ,\n",
       "       0.        , 0.        , 0.        , 0.        , 0.04759795,\n",
       "       0.        , 0.05215408, 0.        , 0.10149934, 0.07232928,\n",
       "       0.04996358, 0.03966432, 0.        , 0.0392938 , 0.        ,\n",
       "       0.04196654, 0.04240949, 0.        , 0.06105522, 0.        ,\n",
       "       0.08845865, 0.09126543, 0.        , 0.09886298, 0.        ,\n",
       "       0.        , 0.09139638, 0.10610606, 0.03492686, 0.06879061,\n",
       "       0.06845941, 0.        , 0.20300106, 0.07280371, 0.03355193,\n",
       "       0.04560268, 0.        , 0.        , 0.04644945, 0.        ,\n",
       "       0.        , 0.04116921, 0.        , 0.        , 0.04700726,\n",
       "       0.        , 0.        , 0.        , 0.03846198, 0.05613144,\n",
       "       0.11497316, 0.        , 0.06560292, 0.05702712, 0.        ,\n",
       "       0.        , 0.04311192, 0.10087885, 0.03376411, 0.03787347,\n",
       "       0.        , 0.05517049, 0.04218286, 0.09788152, 0.        ,\n",
       "       0.05134875, 0.        , 0.12582167, 0.04347108, 0.13113319,\n",
       "       0.09212384, 0.        , 0.        , 0.04999548, 0.        ,\n",
       "       0.        , 0.05908554, 0.1186357 , 0.        , 0.06078433,\n",
       "       0.04947147, 0.04441207, 0.11210029, 0.03576892, 0.17810726,\n",
       "       0.10182237, 0.04527826, 0.05801833, 0.        , 0.        ,\n",
       "       0.0940748 , 0.09572215, 0.03239076, 0.        , 0.        ,\n",
       "       0.        , 0.22171769, 0.02968854, 0.03794548, 0.01890063,\n",
       "       0.06594304, 0.03770627, 0.04725558, 0.09139788, 0.        ,\n",
       "       0.        , 0.        , 0.12153571, 0.09714491, 0.07016541,\n",
       "       0.        , 0.07582342, 0.08341962, 0.04701456, 0.06322899,\n",
       "       0.09643833, 0.        , 0.16796276, 0.        , 0.06770646,\n",
       "       0.        , 0.07539717, 0.06106422, 0.        , 0.20072482,\n",
       "       0.05175557, 0.        , 0.        , 0.07872163, 0.06733062,\n",
       "       0.        , 0.        , 0.        , 0.02468912, 0.04356432,\n",
       "       0.1088551 , 0.14016631, 0.05049685, 0.        , 0.07429648,\n",
       "       0.15060543, 0.06059109, 0.        , 0.        , 0.15363236,\n",
       "       0.24641805, 0.15991792, 0.06496379, 0.04222363, 0.06075701,\n",
       "       0.11256846, 0.18221195, 0.15502219, 0.        , 0.16770964,\n",
       "       0.        , 0.03460018, 0.09983403, 0.12317397, 0.        ,\n",
       "       0.06476239, 0.        , 0.10001323, 0.        , 0.04699175,\n",
       "       0.05795292, 0.10221717, 0.        , 0.04777881, 0.03991065,\n",
       "       0.        , 0.11830227, 0.07465195, 0.        , 0.        ,\n",
       "       0.        , 0.08456919, 0.03879105, 0.12626598, 0.        ,\n",
       "       0.08949345, 0.02784162, 0.04018291, 0.06838526, 0.05387483,\n",
       "       0.11600376, 0.05591005, 0.        , 0.03809641, 0.        ,\n",
       "       0.13663252, 0.01730924, 0.12897079, 0.12720347, 0.        ,\n",
       "       0.05213726, 0.09131678, 0.05877652, 0.04643217, 0.04860476,\n",
       "       0.15876884, 0.        , 0.        , 0.03111029, 0.02636204,\n",
       "       0.        , 0.08615321, 0.06465412, 0.09282593, 0.        ,\n",
       "       0.05554555, 0.        , 0.02715211, 0.09566822, 0.        ,\n",
       "       0.07093348, 0.        , 0.        , 0.05208691, 0.09444412,\n",
       "       0.07401345, 0.        , 0.        , 0.07679119, 0.        ,\n",
       "       0.15137528, 0.02646842, 0.16875487, 0.03836117, 0.04424697,\n",
       "       0.08376392, 0.06479811, 0.0766969 , 0.        , 0.075359  ,\n",
       "       0.08112864, 0.05560266, 0.        , 0.21514873, 0.        ,\n",
       "       0.10099543, 0.04036583, 0.11239521, 0.        , 0.11349036,\n",
       "       0.03962842, 0.        , 0.12589919, 0.        , 0.08616854,\n",
       "       0.03531047, 0.15043047, 0.12336307, 0.07655772, 0.12579391,\n",
       "       0.02304084, 0.        , 0.        , 0.        , 0.05212781,\n",
       "       0.01167046, 0.        , 0.03400934, 0.03846198, 0.11666043,\n",
       "       0.08753781, 0.        , 0.        , 0.        , 0.04596029,\n",
       "       0.08069577, 0.13823348, 0.06296299, 0.08116413, 0.        ,\n",
       "       0.        , 0.06411743, 0.03525629, 0.07562846, 0.        ,\n",
       "       0.11331389, 0.0345266 , 0.        , 0.04919833, 0.        ,\n",
       "       0.        , 0.        , 0.        , 0.1111337 , 0.06203228,\n",
       "       0.08138772, 0.        , 0.07380463, 0.        , 0.04738403,\n",
       "       0.0634135 , 0.0705595 , 0.        , 0.05095804, 0.        ,\n",
       "       0.        , 0.        , 0.03119199, 0.        , 0.        ,\n",
       "       0.09174169, 0.05203945, 0.05131218, 0.        , 0.09387814,\n",
       "       0.04480685, 0.03286937])"
      ]
     },
     "execution_count": 42,
     "metadata": {},
     "output_type": "execute_result"
    }
   ],
   "source": [
    "# this is the first books distance each books similarity \n",
    "similarity_scores[0]"
   ]
  },
  {
   "cell_type": "code",
   "execution_count": 3,
   "metadata": {
    "execution": {
     "iopub.execute_input": "2023-09-20T20:06:11.8273Z",
     "iopub.status.busy": "2023-09-20T20:06:11.826449Z",
     "iopub.status.idle": "2023-09-20T20:06:11.837264Z",
     "shell.execute_reply": "2023-09-20T20:06:11.836115Z",
     "shell.execute_reply.started": "2023-09-20T20:06:11.827256Z"
    }
   },
   "outputs": [],
   "source": [
    "def recommend(book_name):\n",
    "    # index fetch\n",
    "    index = np.where(book_pivot.index==book_name)[0][0]\n",
    "    similar_items = sorted(list(enumerate(similarity_scores[index])),key=lambda x:x[1],reverse=True)[1:5]\n",
    "    \n",
    "    data = []\n",
    "    for i in similar_items:\n",
    "        item = []\n",
    "        temp_df = books[books['Book-Title'] == book_pivot.index[i[0]]]\n",
    "        item.extend(list(temp_df.drop_duplicates('Book-Title')['Book-Title'].values))\n",
    "        item.extend(list(temp_df.drop_duplicates('Book-Title')['Book-Author'].values))\n",
    "        item.extend(list(temp_df.drop_duplicates('Book-Title')['Image-URL-M'].values))\n",
    "        \n",
    "        data.append(item)\n",
    "    \n",
    "    return data"
   ]
  },
  {
   "cell_type": "code",
   "execution_count": 50,
   "metadata": {
    "execution": {
     "iopub.execute_input": "2023-09-20T20:06:11.83997Z",
     "iopub.status.busy": "2023-09-20T20:06:11.83918Z",
     "iopub.status.idle": "2023-09-20T20:06:11.972485Z",
     "shell.execute_reply": "2023-09-20T20:06:11.971382Z",
     "shell.execute_reply.started": "2023-09-20T20:06:11.839928Z"
    }
   },
   "outputs": [
    {
     "name": "stdout",
     "output_type": "stream",
     "text": [
      "[False False False False False False False False False False False False\n",
      " False False False False False False False False False False False False\n",
      " False False False False False False False False False False False False\n",
      " False False False False False False False False False False False False\n",
      " False False False False False False False False False False False False\n",
      " False False False False False False False False False False False False\n",
      " False False False False False False False False False False False False\n",
      " False False False False False False False False False False False False\n",
      " False False False False False False False False False False False False\n",
      " False False False False False False False False False False False False\n",
      " False False False False False False False False False False False False\n",
      " False False False False False False False False False False False False\n",
      " False False False False False False False False False False False False\n",
      " False False False False False False False False False False False False\n",
      " False False False False False False False False False False False False\n",
      " False False False False False False False False False False False False\n",
      " False False False False False False False False False False False False\n",
      " False False False False False False False False False False False False\n",
      " False False False False False False False False False False False False\n",
      " False False False False False False False False False  True False False\n",
      " False False False False False False False False False False False False\n",
      " False False False False False False False False False False False False\n",
      " False False False False False False False False False False False False\n",
      " False False False False False False False False False False False False\n",
      " False False False False False False False False False False False False\n",
      " False False False False False False False False False False False False\n",
      " False False False False False False False False False False False False\n",
      " False False False False False False False False False False False False\n",
      " False False False False False False False False False False False False\n",
      " False False False False False False False False False False False False\n",
      " False False False False False False False False False False False False\n",
      " False False False False False False False False False False False False\n",
      " False False False False False False False False False False False False\n",
      " False False False False False False False False False False False False\n",
      " False False False False False False False False False False False False\n",
      " False False False False False False False False False False False False\n",
      " False False False False False False False False False False False False\n",
      " False False False False False False False False False False False False\n",
      " False False False False False False False False False False False False\n",
      " False False False False False False False False False False False False\n",
      " False False False False False False False False False False False False\n",
      " False False False False False False False False False False False False\n",
      " False False False False False False False False False False False False\n",
      " False False False False False False False False False False False False\n",
      " False False False False False False False False False False False False\n",
      " False False False False False False False False False False False False\n",
      " False False False False False False False False False False False False\n",
      " False False False False False False False False False False False False\n",
      " False False False False False False False False False False False False\n",
      " False False False False False False False False False False False False\n",
      " False False False False False False False False False False False False\n",
      " False False False False False False False False False False False False\n",
      " False False False False False False False False False False False False\n",
      " False False False False False False False False False False False False\n",
      " False False False False False False False False False False False False\n",
      " False False False False False False False False False False False False\n",
      " False False False False False False False False False False False False\n",
      " False False False False False False False False False False False False\n",
      " False False False False False False False False False False False False\n",
      " False False False False False False False False False False False False\n",
      " False False False False False False False False False False False False\n",
      " False False False False False False False False False False]\n"
     ]
    }
   ],
   "source": [
    "print(book_pivot.index==\"\")"
   ]
  },
  {
   "cell_type": "code",
   "execution_count": 51,
   "metadata": {},
   "outputs": [
    {
     "data": {
      "text/plain": [
       "[['Harry Potter and the Prisoner of Azkaban (Book 3)',\n",
       "  'J. K. Rowling',\n",
       "  'http://images.amazon.com/images/P/0439136350.01.MZZZZZZZ.jpg'],\n",
       " ['Harry Potter and the Goblet of Fire (Book 4)',\n",
       "  'J. K. Rowling',\n",
       "  'http://images.amazon.com/images/P/0439139597.01.MZZZZZZZ.jpg'],\n",
       " [\"Harry Potter and the Sorcerer's Stone (Harry Potter (Paperback))\",\n",
       "  'J. K. Rowling',\n",
       "  'http://images.amazon.com/images/P/059035342X.01.MZZZZZZZ.jpg'],\n",
       " [\"Harry Potter and the Sorcerer's Stone (Book 1)\",\n",
       "  'J. K. Rowling',\n",
       "  'http://images.amazon.com/images/P/0590353403.01.MZZZZZZZ.jpg']]"
      ]
     },
     "execution_count": 51,
     "metadata": {},
     "output_type": "execute_result"
    }
   ],
   "source": [
    "recommend('Harry Potter and the Chamber of Secrets (Book 2)')"
   ]
  },
  {
   "cell_type": "code",
   "execution_count": 57,
   "metadata": {},
   "outputs": [
    {
     "name": "stdout",
     "output_type": "stream",
     "text": [
      "Index(['1984', '1st to Die: A Novel', '2nd Chance', '4 Blondes',\n",
      "       '84 Charing Cross Road', 'A Bend in the Road', 'A Case of Need',\n",
      "       'A Child Called \\It\\\": One Child's Courage to Survive\"',\n",
      "       'A Civil Action', 'A Cry In The Night',\n",
      "       ...\n",
      "       'Winter Solstice', 'Wish You Well', 'Without Remorse',\n",
      "       'Wizard and Glass (The Dark Tower, Book 4)', 'Wuthering Heights',\n",
      "       'Year of Wonders', 'You Belong To Me',\n",
      "       'Zen and the Art of Motorcycle Maintenance: An Inquiry into Values',\n",
      "       'Zoya', '\\O\\\" Is for Outlaw\"'],\n",
      "      dtype='object', name='Book-Title', length=742)\n"
     ]
    }
   ],
   "source": [
    "print(book_pivot.index)"
   ]
  },
  {
   "cell_type": "code",
   "execution_count": 60,
   "metadata": {},
   "outputs": [
    {
     "data": {
      "text/plain": [
       "[['Harry Potter and the Prisoner of Azkaban (Book 3)',\n",
       "  'J. K. Rowling',\n",
       "  'http://images.amazon.com/images/P/0439136350.01.MZZZZZZZ.jpg'],\n",
       " ['Harry Potter and the Goblet of Fire (Book 4)',\n",
       "  'J. K. Rowling',\n",
       "  'http://images.amazon.com/images/P/0439139597.01.MZZZZZZZ.jpg'],\n",
       " [\"Harry Potter and the Sorcerer's Stone (Harry Potter (Paperback))\",\n",
       "  'J. K. Rowling',\n",
       "  'http://images.amazon.com/images/P/059035342X.01.MZZZZZZZ.jpg'],\n",
       " [\"Harry Potter and the Sorcerer's Stone (Book 1)\",\n",
       "  'J. K. Rowling',\n",
       "  'http://images.amazon.com/images/P/0590353403.01.MZZZZZZZ.jpg']]"
      ]
     },
     "execution_count": 60,
     "metadata": {},
     "output_type": "execute_result"
    }
   ],
   "source": [
    "recommend('Harry Potter and the Chamber of Secrets (Book 2)')"
   ]
  },
  {
   "cell_type": "code",
   "execution_count": 62,
   "metadata": {},
   "outputs": [
    {
     "name": "stdout",
     "output_type": "stream",
     "text": [
      "Requirement already satisfied: joblib in /Users/edwinkarpowicz/miniforge3/envs/tf/lib/python3.10/site-packages (1.3.2)\r\n"
     ]
    }
   ],
   "source": [
    "!pip install joblib\n"
   ]
  },
  {
   "cell_type": "code",
   "execution_count": 63,
   "metadata": {
    "scrolled": true
   },
   "outputs": [
    {
     "ename": "NameError",
     "evalue": "name 'model' is not defined",
     "output_type": "error",
     "traceback": [
      "\u001b[0;31m---------------------------------------------------------------------------\u001b[0m",
      "\u001b[0;31mNameError\u001b[0m                                 Traceback (most recent call last)",
      "Cell \u001b[0;32mIn[63], line 4\u001b[0m\n\u001b[1;32m      1\u001b[0m \u001b[38;5;28;01mimport\u001b[39;00m \u001b[38;5;21;01mjoblib\u001b[39;00m\n\u001b[1;32m      3\u001b[0m \u001b[38;5;66;03m# Save the model to a file\u001b[39;00m\n\u001b[0;32m----> 4\u001b[0m joblib\u001b[38;5;241m.\u001b[39mdump(\u001b[43mmodel\u001b[49m, \u001b[38;5;124m'\u001b[39m\u001b[38;5;124myour_model_filename.pkl\u001b[39m\u001b[38;5;124m'\u001b[39m)\n",
      "\u001b[0;31mNameError\u001b[0m: name 'model' is not defined"
     ]
    }
   ],
   "source": [
    "import joblib\n",
    "\n",
    "# Save the model to a file\n",
    "joblib.dump(model, 'your_model_filename.pkl')"
   ]
  },
  {
   "cell_type": "code",
   "execution_count": 65,
   "metadata": {},
   "outputs": [
    {
     "name": "stdout",
     "output_type": "stream",
     "text": [
      "Model saved as cosine_similarity_model.pkl\n"
     ]
    }
   ],
   "source": [
    "model_filename = 'cosine_similarity_model.pkl'\n",
    "\n",
    "# Save the model to the file\n",
    "joblib.dump(book_pivot, model_filename)\n",
    "\n",
    "print(f\"Model saved as {model_filename}\")"
   ]
  },
  {
   "cell_type": "code",
   "execution_count": null,
   "metadata": {},
   "outputs": [],
   "source": []
  },
  {
   "cell_type": "code",
   "execution_count": null,
   "metadata": {},
   "outputs": [],
   "source": []
  },
  {
   "cell_type": "code",
   "execution_count": 7,
   "metadata": {},
   "outputs": [],
   "source": [
    "import joblib\n",
    "\n",
    "# Specify the file path where the model is saved\n",
    "model_filename = 'cosine_similarity_model.pkl'\n",
    "\n",
    "# Load the model from the file\n",
    "book_pivot = joblib.load(model_filename)"
   ]
  },
  {
   "cell_type": "code",
   "execution_count": 9,
   "metadata": {},
   "outputs": [],
   "source": [
    "from sklearn.metrics.pairwise import cosine_similarity\n",
    "\n",
    "similarity_scores = cosine_similarity(book_pivot)"
   ]
  },
  {
   "cell_type": "code",
   "execution_count": 11,
   "metadata": {},
   "outputs": [],
   "source": [
    "books = pd.read_csv('data/Books.csv')"
   ]
  },
  {
   "cell_type": "code",
   "execution_count": 12,
   "metadata": {},
   "outputs": [
    {
     "data": {
      "text/plain": [
       "[['Harry Potter and the Prisoner of Azkaban (Book 3)',\n",
       "  'J. K. Rowling',\n",
       "  'http://images.amazon.com/images/P/0439136350.01.MZZZZZZZ.jpg'],\n",
       " ['Harry Potter and the Goblet of Fire (Book 4)',\n",
       "  'J. K. Rowling',\n",
       "  'http://images.amazon.com/images/P/0439139597.01.MZZZZZZZ.jpg'],\n",
       " [\"Harry Potter and the Sorcerer's Stone (Harry Potter (Paperback))\",\n",
       "  'J. K. Rowling',\n",
       "  'http://images.amazon.com/images/P/059035342X.01.MZZZZZZZ.jpg'],\n",
       " [\"Harry Potter and the Sorcerer's Stone (Book 1)\",\n",
       "  'J. K. Rowling',\n",
       "  'http://images.amazon.com/images/P/0590353403.01.MZZZZZZZ.jpg']]"
      ]
     },
     "execution_count": 12,
     "metadata": {},
     "output_type": "execute_result"
    }
   ],
   "source": [
    "recommend('Harry Potter and the Chamber of Secrets (Book 2)')"
   ]
  },
  {
   "cell_type": "code",
   "execution_count": 13,
   "metadata": {},
   "outputs": [
    {
     "name": "stdout",
     "output_type": "stream",
     "text": [
      "271360\n"
     ]
    }
   ],
   "source": [
    "print(len(books))"
   ]
  },
  {
   "cell_type": "code",
   "execution_count": 17,
   "metadata": {},
   "outputs": [
    {
     "name": "stdout",
     "output_type": "stream",
     "text": [
      "Index(['1984', '1st to Die: A Novel', '2nd Chance', '4 Blondes',\n",
      "       '84 Charing Cross Road', 'A Bend in the Road', 'A Case of Need',\n",
      "       'A Child Called \\It\\\": One Child's Courage to Survive\"',\n",
      "       'A Civil Action', 'A Cry In The Night',\n",
      "       ...\n",
      "       'Winter Solstice', 'Wish You Well', 'Without Remorse',\n",
      "       'Wizard and Glass (The Dark Tower, Book 4)', 'Wuthering Heights',\n",
      "       'Year of Wonders', 'You Belong To Me',\n",
      "       'Zen and the Art of Motorcycle Maintenance: An Inquiry into Values',\n",
      "       'Zoya', '\\O\\\" Is for Outlaw\"'],\n",
      "      dtype='object', name='Book-Title', length=742)\n"
     ]
    }
   ],
   "source": [
    "print(book_pivot.index)"
   ]
  },
  {
   "cell_type": "code",
   "execution_count": null,
   "metadata": {},
   "outputs": [],
   "source": []
  }
 ],
 "metadata": {
  "kernelspec": {
   "display_name": "Python 3 (ipykernel)",
   "language": "python",
   "name": "python3"
  },
  "language_info": {
   "codemirror_mode": {
    "name": "ipython",
    "version": 3
   },
   "file_extension": ".py",
   "mimetype": "text/x-python",
   "name": "python",
   "nbconvert_exporter": "python",
   "pygments_lexer": "ipython3",
   "version": "3.7.0"
  }
 },
 "nbformat": 4,
 "nbformat_minor": 4
}
